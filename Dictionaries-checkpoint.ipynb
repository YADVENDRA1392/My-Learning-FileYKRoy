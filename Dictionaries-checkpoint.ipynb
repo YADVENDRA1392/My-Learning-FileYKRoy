{
 "cells": [
  {
   "cell_type": "code",
   "execution_count": 23,
   "id": "6201f170",
   "metadata": {},
   "outputs": [],
   "source": [
    "my_dict={'roll_number':88, 'marks':[12,23,33],'subject':['Computer','Science','Maths']}"
   ]
  },
  {
   "cell_type": "code",
   "execution_count": 24,
   "id": "013f1b26",
   "metadata": {},
   "outputs": [
    {
     "data": {
      "text/plain": [
       "['Computer', 'Science', 'Maths']"
      ]
     },
     "execution_count": 24,
     "metadata": {},
     "output_type": "execute_result"
    }
   ],
   "source": [
    "my_dict['subject']"
   ]
  },
  {
   "cell_type": "code",
   "execution_count": 25,
   "id": "1b29b75c",
   "metadata": {},
   "outputs": [
    {
     "data": {
      "text/plain": [
       "'Science'"
      ]
     },
     "execution_count": 25,
     "metadata": {},
     "output_type": "execute_result"
    }
   ],
   "source": [
    "my_dict['subject'][1]"
   ]
  },
  {
   "cell_type": "code",
   "execution_count": 26,
   "id": "aa3be98b",
   "metadata": {},
   "outputs": [
    {
     "data": {
      "text/plain": [
       "'COMPUTER'"
      ]
     },
     "execution_count": 26,
     "metadata": {},
     "output_type": "execute_result"
    }
   ],
   "source": [
    "my_dict['subject'][0].upper()"
   ]
  },
  {
   "cell_type": "code",
   "execution_count": 27,
   "id": "89396ee1",
   "metadata": {},
   "outputs": [
    {
     "data": {
      "text/plain": [
       "'maths'"
      ]
     },
     "execution_count": 27,
     "metadata": {},
     "output_type": "execute_result"
    }
   ],
   "source": [
    "my_dict['subject'][2].lower()"
   ]
  },
  {
   "cell_type": "code",
   "execution_count": 28,
   "id": "ca91c8ae",
   "metadata": {},
   "outputs": [
    {
     "data": {
      "text/plain": [
       "[12, 23, 33]"
      ]
     },
     "execution_count": 28,
     "metadata": {},
     "output_type": "execute_result"
    }
   ],
   "source": [
    "my_dict['marks']"
   ]
  },
  {
   "cell_type": "code",
   "execution_count": null,
   "id": "385b995c",
   "metadata": {},
   "outputs": [],
   "source": [
    "Add marks"
   ]
  },
  {
   "cell_type": "code",
   "execution_count": 29,
   "id": "4fae48e4",
   "metadata": {},
   "outputs": [],
   "source": [
    "my_dict['marks'][0]=my_dict['marks'][0]+30"
   ]
  },
  {
   "cell_type": "code",
   "execution_count": null,
   "id": "70bc436f",
   "metadata": {},
   "outputs": [],
   "source": [
    "(This is long method)"
   ]
  },
  {
   "cell_type": "code",
   "execution_count": 30,
   "id": "50bd2727",
   "metadata": {},
   "outputs": [
    {
     "data": {
      "text/plain": [
       "[42, 23, 33]"
      ]
     },
     "execution_count": 30,
     "metadata": {},
     "output_type": "execute_result"
    }
   ],
   "source": [
    "my_dict['marks']"
   ]
  },
  {
   "cell_type": "code",
   "execution_count": null,
   "id": "15c7d5a8",
   "metadata": {},
   "outputs": [],
   "source": [
    "Short Method for Adding"
   ]
  },
  {
   "cell_type": "code",
   "execution_count": 32,
   "id": "816dc559",
   "metadata": {},
   "outputs": [],
   "source": [
    "my_dict['marks'][2]+=20"
   ]
  },
  {
   "cell_type": "code",
   "execution_count": 33,
   "id": "10fe233a",
   "metadata": {},
   "outputs": [
    {
     "data": {
      "text/plain": [
       "[42, 23, 53]"
      ]
     },
     "execution_count": 33,
     "metadata": {},
     "output_type": "execute_result"
    }
   ],
   "source": [
    "my_dict['marks']"
   ]
  },
  {
   "cell_type": "code",
   "execution_count": 34,
   "id": "278bdbdc",
   "metadata": {},
   "outputs": [],
   "source": [
    "my_dict['marks'][1]-=3"
   ]
  },
  {
   "cell_type": "code",
   "execution_count": 35,
   "id": "233776cc",
   "metadata": {},
   "outputs": [
    {
     "data": {
      "text/plain": [
       "[42, 20, 53]"
      ]
     },
     "execution_count": 35,
     "metadata": {},
     "output_type": "execute_result"
    }
   ],
   "source": [
    "my_dict['marks']"
   ]
  },
  {
   "cell_type": "code",
   "execution_count": 36,
   "id": "d5cbabc0",
   "metadata": {},
   "outputs": [],
   "source": [
    "my_dict['year']='3rd'"
   ]
  },
  {
   "cell_type": "code",
   "execution_count": null,
   "id": "e72c7b05",
   "metadata": {},
   "outputs": [],
   "source": [
    "Change Value"
   ]
  },
  {
   "cell_type": "code",
   "execution_count": 41,
   "id": "2ff4531c",
   "metadata": {},
   "outputs": [],
   "source": [
    "my_dict.update({'roll_number':100})"
   ]
  },
  {
   "cell_type": "code",
   "execution_count": 43,
   "id": "7a01214d",
   "metadata": {},
   "outputs": [
    {
     "data": {
      "text/plain": [
       "100"
      ]
     },
     "execution_count": 43,
     "metadata": {},
     "output_type": "execute_result"
    }
   ],
   "source": [
    "my_dict['roll_number']"
   ]
  },
  {
   "cell_type": "code",
   "execution_count": 44,
   "id": "dcf87f5b",
   "metadata": {},
   "outputs": [
    {
     "data": {
      "text/plain": [
       "dict_keys(['roll_number', 'marks', 'subject', 'year'])"
      ]
     },
     "execution_count": 44,
     "metadata": {},
     "output_type": "execute_result"
    }
   ],
   "source": [
    "my_dict.keys()"
   ]
  },
  {
   "cell_type": "code",
   "execution_count": 45,
   "id": "1ce65bf8",
   "metadata": {},
   "outputs": [
    {
     "data": {
      "text/plain": [
       "dict_values([100, [42, 20, 53], ['Computer', 'Science', 'Maths'], '3rd'])"
      ]
     },
     "execution_count": 45,
     "metadata": {},
     "output_type": "execute_result"
    }
   ],
   "source": [
    "my_dict.values()"
   ]
  },
  {
   "cell_type": "code",
   "execution_count": 46,
   "id": "6ba98e6e",
   "metadata": {},
   "outputs": [
    {
     "data": {
      "text/plain": [
       "dict_items([('roll_number', 100), ('marks', [42, 20, 53]), ('subject', ['Computer', 'Science', 'Maths']), ('year', '3rd')])"
      ]
     },
     "execution_count": 46,
     "metadata": {},
     "output_type": "execute_result"
    }
   ],
   "source": [
    "my_dict.items()"
   ]
  },
  {
   "cell_type": "code",
   "execution_count": null,
   "id": "5a1d01b2",
   "metadata": {},
   "outputs": [],
   "source": []
  }
 ],
 "metadata": {
  "kernelspec": {
   "display_name": "Python 3 (ipykernel)",
   "language": "python",
   "name": "python3"
  },
  "language_info": {
   "codemirror_mode": {
    "name": "ipython",
    "version": 3
   },
   "file_extension": ".py",
   "mimetype": "text/x-python",
   "name": "python",
   "nbconvert_exporter": "python",
   "pygments_lexer": "ipython3",
   "version": "3.9.12"
  }
 },
 "nbformat": 4,
 "nbformat_minor": 5
}
