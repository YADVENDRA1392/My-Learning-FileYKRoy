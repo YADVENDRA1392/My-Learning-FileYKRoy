{
 "cells": [
  {
   "cell_type": "code",
   "execution_count": null,
   "id": "67f214e6",
   "metadata": {},
   "outputs": [],
   "source": [
    "map_filter"
   ]
  },
  {
   "cell_type": "code",
   "execution_count": 19,
   "id": "4e6b5a21",
   "metadata": {},
   "outputs": [],
   "source": [
    "def grace_marks(marks):\n",
    "    if marks == 33:\n",
    "        return (marks + 2)\n",
    "    elif marks == 34:\n",
    "        return (marks + 1)\n",
    "    else:\n",
    "        return marks"
   ]
  },
  {
   "cell_type": "code",
   "execution_count": 20,
   "id": "a21351ce",
   "metadata": {},
   "outputs": [],
   "source": [
    "score = [33,65,45,34,85,33,65,34,62,33]"
   ]
  },
  {
   "cell_type": "code",
   "execution_count": 21,
   "id": "a420e790",
   "metadata": {},
   "outputs": [],
   "source": [
    "total = list(map(grace_marks,score))"
   ]
  },
  {
   "cell_type": "code",
   "execution_count": 22,
   "id": "912cbbf7",
   "metadata": {},
   "outputs": [
    {
     "name": "stdout",
     "output_type": "stream",
     "text": [
      "[35, 65, 45, 35, 85, 35, 65, 35, 62, 35]\n"
     ]
    }
   ],
   "source": [
    "print (total)"
   ]
  },
  {
   "cell_type": "code",
   "execution_count": 23,
   "id": "ee797257",
   "metadata": {},
   "outputs": [
    {
     "data": {
      "text/plain": [
       "5"
      ]
     },
     "execution_count": 23,
     "metadata": {},
     "output_type": "execute_result"
    }
   ],
   "source": [
    "total.count (35)"
   ]
  },
  {
   "cell_type": "code",
   "execution_count": null,
   "id": "eb92ed62",
   "metadata": {},
   "outputs": [],
   "source": [
    "filter"
   ]
  },
  {
   "cell_type": "code",
   "execution_count": 1,
   "id": "2c57506f",
   "metadata": {},
   "outputs": [],
   "source": [
    "def filter_marks(marks):\n",
    "    if marks < 35:\n",
    "        return marks"
   ]
  },
  {
   "cell_type": "code",
   "execution_count": 2,
   "id": "8c241183",
   "metadata": {},
   "outputs": [],
   "source": [
    "score = [54,56,85,25,45,21,33,45,96,53]"
   ]
  },
  {
   "cell_type": "code",
   "execution_count": 3,
   "id": "37493dd7",
   "metadata": {},
   "outputs": [
    {
     "data": {
      "text/plain": [
       "[25, 21, 33]"
      ]
     },
     "execution_count": 3,
     "metadata": {},
     "output_type": "execute_result"
    }
   ],
   "source": [
    "failed = list(filter(filter_marks,score))\n",
    "failed"
   ]
  },
  {
   "cell_type": "code",
   "execution_count": null,
   "id": "2fedd7b1",
   "metadata": {},
   "outputs": [],
   "source": [
    "Diffirent between map and lambda"
   ]
  },
  {
   "cell_type": "code",
   "execution_count": 4,
   "id": "43210c89",
   "metadata": {},
   "outputs": [
    {
     "data": {
      "text/plain": [
       "[False, True, False]"
      ]
     },
     "execution_count": 4,
     "metadata": {},
     "output_type": "execute_result"
    }
   ],
   "source": [
    "list(map(lambda var: var%2 == 0, [1,2,3]))"
   ]
  },
  {
   "cell_type": "code",
   "execution_count": 6,
   "id": "fdefa5ff",
   "metadata": {},
   "outputs": [
    {
     "data": {
      "text/plain": [
       "[False, True, False, True]"
      ]
     },
     "execution_count": 6,
     "metadata": {},
     "output_type": "execute_result"
    }
   ],
   "source": [
    "list(map(lambda var: var%2 == 0, [1,2,3,4]))"
   ]
  },
  {
   "cell_type": "code",
   "execution_count": 5,
   "id": "a9f1275d",
   "metadata": {},
   "outputs": [
    {
     "data": {
      "text/plain": [
       "[2]"
      ]
     },
     "execution_count": 5,
     "metadata": {},
     "output_type": "execute_result"
    }
   ],
   "source": [
    "list(filter(lambda var: var%2 == 0, [1,2,3]))"
   ]
  },
  {
   "cell_type": "code",
   "execution_count": 7,
   "id": "f6db6322",
   "metadata": {},
   "outputs": [
    {
     "data": {
      "text/plain": [
       "[2, 4]"
      ]
     },
     "execution_count": 7,
     "metadata": {},
     "output_type": "execute_result"
    }
   ],
   "source": [
    "list(filter(lambda var: var%2 == 0, [1,2,3,4]))"
   ]
  },
  {
   "cell_type": "code",
   "execution_count": null,
   "id": "bbd84294",
   "metadata": {},
   "outputs": [],
   "source": []
  }
 ],
 "metadata": {
  "kernelspec": {
   "display_name": "Python 3 (ipykernel)",
   "language": "python",
   "name": "python3"
  },
  "language_info": {
   "codemirror_mode": {
    "name": "ipython",
    "version": 3
   },
   "file_extension": ".py",
   "mimetype": "text/x-python",
   "name": "python",
   "nbconvert_exporter": "python",
   "pygments_lexer": "ipython3",
   "version": "3.9.12"
  }
 },
 "nbformat": 4,
 "nbformat_minor": 5
}
