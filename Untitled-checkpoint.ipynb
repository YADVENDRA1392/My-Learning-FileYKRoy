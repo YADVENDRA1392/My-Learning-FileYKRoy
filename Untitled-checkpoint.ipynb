{
 "cells": [
  {
   "cell_type": "code",
   "execution_count": null,
   "id": "d6b29922",
   "metadata": {},
   "outputs": [],
   "source": [
    "Break & Continued"
   ]
  },
  {
   "cell_type": "code",
   "execution_count": 7,
   "id": "53dd5d7b",
   "metadata": {},
   "outputs": [
    {
     "name": "stdout",
     "output_type": "stream",
     "text": [
      "Patna\n",
      "Delhi\n",
      "Punjab\n",
      "Gujrat\n",
      "Bhopal\n"
     ]
    }
   ],
   "source": [
    "city = ['Patna', 'Delhi', 'Punjab', 'Gujrat', 'Bhopal', 'Hariyana', 'Madras']\n",
    "\n",
    "for val in city:\n",
    "    if val == \"Hariyana\":\n",
    "        break\n",
    "    print(val)\n",
    "    "
   ]
  },
  {
   "cell_type": "code",
   "execution_count": 15,
   "id": "d936a972",
   "metadata": {},
   "outputs": [
    {
     "name": "stdout",
     "output_type": "stream",
     "text": [
      "20000\n",
      "22000\n",
      "25000\n",
      "15000\n",
      "12000\n",
      "8000\n",
      "7500\n",
      "8000\n"
     ]
    }
   ],
   "source": [
    "salary = [20000, 22000, 25000, 15000, 12000, 8000, 7500, 8000]\n",
    "\n",
    "for val in salary:\n",
    "    if val > 25000:\n",
    "        break\n",
    "    print (val)"
   ]
  },
  {
   "cell_type": "code",
   "execution_count": 19,
   "id": "c24888ed",
   "metadata": {},
   "outputs": [
    {
     "name": "stdout",
     "output_type": "stream",
     "text": [
      "20000\n",
      "22000\n",
      "25000\n"
     ]
    }
   ],
   "source": [
    "salary = [20000, 22000, 25000, 15000, 12000, 8000, 7500, 8000]\n",
    "\n",
    "for val in salary:\n",
    "    if val < 20000:\n",
    "        break\n",
    "    print (val)"
   ]
  },
  {
   "cell_type": "code",
   "execution_count": 21,
   "id": "70831765",
   "metadata": {},
   "outputs": [
    {
     "name": "stdout",
     "output_type": "stream",
     "text": [
      "20000\n",
      "22000\n",
      "25000\n",
      "15000\n",
      "12000\n"
     ]
    }
   ],
   "source": [
    "salary = [20000, 22000, 25000, 15000, 12000, 8000, 7500, 8000]\n",
    "\n",
    "for val in salary:\n",
    "    if val == 8000:\n",
    "        break\n",
    "    print (val)"
   ]
  },
  {
   "cell_type": "code",
   "execution_count": null,
   "id": "65471e26",
   "metadata": {},
   "outputs": [],
   "source": [
    "Continue"
   ]
  },
  {
   "cell_type": "code",
   "execution_count": 22,
   "id": "54404ab7",
   "metadata": {},
   "outputs": [
    {
     "name": "stdout",
     "output_type": "stream",
     "text": [
      "Patna\n",
      "Delhi\n",
      "Punjab\n",
      "Gujrat\n",
      "Bhopal\n",
      "Madras\n"
     ]
    }
   ],
   "source": [
    "city = ['Patna', 'Delhi', 'Punjab', 'Gujrat', 'Bhopal', 'Hariyana', 'Madras']\n",
    "\n",
    "for val in city:\n",
    "    if val == \"Hariyana\":\n",
    "        continue\n",
    "    print(val)\n",
    "    "
   ]
  },
  {
   "cell_type": "code",
   "execution_count": null,
   "id": "a3e410b2",
   "metadata": {},
   "outputs": [],
   "source": [
    "Except on \"Hariyana\""
   ]
  },
  {
   "cell_type": "code",
   "execution_count": 23,
   "id": "bd486a76",
   "metadata": {},
   "outputs": [
    {
     "name": "stdout",
     "output_type": "stream",
     "text": [
      "15000\n",
      "12000\n",
      "8000\n",
      "7500\n",
      "8000\n"
     ]
    }
   ],
   "source": [
    "salary = [20000, 22000, 25000, 15000, 12000, 8000, 7500, 8000]\n",
    "\n",
    "for val in salary:\n",
    "    if val > 15000:\n",
    "        continue\n",
    "    print (val)"
   ]
  },
  {
   "cell_type": "code",
   "execution_count": 24,
   "id": "bfa3d28f",
   "metadata": {},
   "outputs": [
    {
     "name": "stdout",
     "output_type": "stream",
     "text": [
      "20000\n",
      "22000\n",
      "25000\n",
      "15000\n"
     ]
    }
   ],
   "source": [
    "salary = [20000, 22000, 25000, 15000, 12000, 8000, 7500, 8000]\n",
    "\n",
    "for val in salary:\n",
    "    if val < 15000:\n",
    "        continue\n",
    "    print (val)"
   ]
  },
  {
   "cell_type": "code",
   "execution_count": 25,
   "id": "f3058ea8",
   "metadata": {},
   "outputs": [
    {
     "name": "stdout",
     "output_type": "stream",
     "text": [
      "20000\n",
      "22000\n",
      "25000\n",
      "12000\n",
      "8000\n",
      "7500\n",
      "8000\n"
     ]
    }
   ],
   "source": [
    "salary = [20000, 22000, 25000, 15000, 12000, 8000, 7500, 8000]\n",
    "\n",
    "for val in salary:\n",
    "    if val == 15000:\n",
    "        continue\n",
    "    print (val)"
   ]
  },
  {
   "cell_type": "code",
   "execution_count": null,
   "id": "07cb4563",
   "metadata": {},
   "outputs": [],
   "source": []
  }
 ],
 "metadata": {
  "kernelspec": {
   "display_name": "Python 3 (ipykernel)",
   "language": "python",
   "name": "python3"
  },
  "language_info": {
   "codemirror_mode": {
    "name": "ipython",
    "version": 3
   },
   "file_extension": ".py",
   "mimetype": "text/x-python",
   "name": "python",
   "nbconvert_exporter": "python",
   "pygments_lexer": "ipython3",
   "version": "3.9.12"
  }
 },
 "nbformat": 4,
 "nbformat_minor": 5
}
