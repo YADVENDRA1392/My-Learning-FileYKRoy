{
 "cells": [
  {
   "cell_type": "code",
   "execution_count": 5,
   "id": "c7472695",
   "metadata": {},
   "outputs": [],
   "source": [
    "l = ['a','b','c']"
   ]
  },
  {
   "cell_type": "code",
   "execution_count": 6,
   "id": "c196b4df",
   "metadata": {},
   "outputs": [
    {
     "data": {
      "text/plain": [
       "['a', 'b', 'c']"
      ]
     },
     "execution_count": 6,
     "metadata": {},
     "output_type": "execute_result"
    }
   ],
   "source": [
    "l"
   ]
  },
  {
   "cell_type": "code",
   "execution_count": 8,
   "id": "2e773698",
   "metadata": {},
   "outputs": [],
   "source": [
    "l2 = list(l)"
   ]
  },
  {
   "cell_type": "code",
   "execution_count": 9,
   "id": "f44380fc",
   "metadata": {},
   "outputs": [
    {
     "data": {
      "text/plain": [
       "['a', 'b', 'c']"
      ]
     },
     "execution_count": 9,
     "metadata": {},
     "output_type": "execute_result"
    }
   ],
   "source": [
    "l2"
   ]
  },
  {
   "cell_type": "code",
   "execution_count": 10,
   "id": "c8224ac5",
   "metadata": {},
   "outputs": [],
   "source": [
    "marks = [35,45,60,80,100]"
   ]
  },
  {
   "cell_type": "code",
   "execution_count": 11,
   "id": "d121cd29",
   "metadata": {},
   "outputs": [
    {
     "data": {
      "text/plain": [
       "[35, 45, 60, 80, 100]"
      ]
     },
     "execution_count": 11,
     "metadata": {},
     "output_type": "execute_result"
    }
   ],
   "source": [
    "marks"
   ]
  },
  {
   "cell_type": "code",
   "execution_count": 12,
   "id": "4ecb9524",
   "metadata": {},
   "outputs": [],
   "source": [
    "copy_marks = marks.copy()"
   ]
  },
  {
   "cell_type": "code",
   "execution_count": 13,
   "id": "45d23f55",
   "metadata": {},
   "outputs": [
    {
     "data": {
      "text/plain": [
       "[35, 45, 60, 80, 100]"
      ]
     },
     "execution_count": 13,
     "metadata": {},
     "output_type": "execute_result"
    }
   ],
   "source": [
    "copy_marks"
   ]
  },
  {
   "cell_type": "code",
   "execution_count": 14,
   "id": "1201d325",
   "metadata": {},
   "outputs": [
    {
     "data": {
      "text/plain": [
       "['s', 'h', 'a', 'n', 'k', 'e', 'r']"
      ]
     },
     "execution_count": 14,
     "metadata": {},
     "output_type": "execute_result"
    }
   ],
   "source": [
    "list ('shanker')"
   ]
  },
  {
   "cell_type": "code",
   "execution_count": null,
   "id": "324751e8",
   "metadata": {},
   "outputs": [],
   "source": [
    "append"
   ]
  },
  {
   "cell_type": "code",
   "execution_count": 15,
   "id": "766eafb1",
   "metadata": {},
   "outputs": [],
   "source": [
    "employee=[]"
   ]
  },
  {
   "cell_type": "code",
   "execution_count": 17,
   "id": "945e02d8",
   "metadata": {},
   "outputs": [],
   "source": [
    "employee.append('Radha')"
   ]
  },
  {
   "cell_type": "code",
   "execution_count": 18,
   "id": "640d2c9b",
   "metadata": {},
   "outputs": [
    {
     "name": "stdout",
     "output_type": "stream",
     "text": [
      "['Radha']\n"
     ]
    }
   ],
   "source": [
    "print (employee)"
   ]
  },
  {
   "cell_type": "code",
   "execution_count": null,
   "id": "08faebd3",
   "metadata": {},
   "outputs": [],
   "source": [
    "Add more name person"
   ]
  },
  {
   "cell_type": "code",
   "execution_count": 19,
   "id": "91a767d8",
   "metadata": {},
   "outputs": [],
   "source": [
    "employee.append('Ramesh')\n",
    "employee.append('Salman')\n",
    "employee.append('Krishna')"
   ]
  },
  {
   "cell_type": "code",
   "execution_count": 20,
   "id": "e85a39ac",
   "metadata": {},
   "outputs": [
    {
     "name": "stdout",
     "output_type": "stream",
     "text": [
      "['Radha', 'Ramesh', 'Salman', 'Krishna']\n"
     ]
    }
   ],
   "source": [
    "print (employee)"
   ]
  },
  {
   "cell_type": "code",
   "execution_count": null,
   "id": "825686a4",
   "metadata": {},
   "outputs": [],
   "source": [
    "Index & insert"
   ]
  },
  {
   "cell_type": "code",
   "execution_count": 22,
   "id": "5443e2c3",
   "metadata": {},
   "outputs": [],
   "source": [
    "employee.insert(2,('Shiv'))"
   ]
  },
  {
   "cell_type": "code",
   "execution_count": 23,
   "id": "1655ac68",
   "metadata": {},
   "outputs": [
    {
     "name": "stdout",
     "output_type": "stream",
     "text": [
      "['Radha', 'Ramesh', 'Shiv', 'Salman', 'Krishna']\n"
     ]
    }
   ],
   "source": [
    "print (employee) "
   ]
  },
  {
   "cell_type": "code",
   "execution_count": 24,
   "id": "1689791d",
   "metadata": {},
   "outputs": [],
   "source": [
    "employee.insert(5,('Yadvendra'))"
   ]
  },
  {
   "cell_type": "code",
   "execution_count": 25,
   "id": "5c546f4b",
   "metadata": {},
   "outputs": [
    {
     "name": "stdout",
     "output_type": "stream",
     "text": [
      "['Radha', 'Ramesh', 'Shiv', 'Salman', 'Krishna', 'Yadvendra']\n"
     ]
    }
   ],
   "source": [
    "print (employee)"
   ]
  },
  {
   "cell_type": "code",
   "execution_count": 27,
   "id": "fc07292b",
   "metadata": {},
   "outputs": [],
   "source": [
    "emp_salary = [15000,20000,25000,25000,28000,]"
   ]
  },
  {
   "cell_type": "code",
   "execution_count": 28,
   "id": "c355e61f",
   "metadata": {},
   "outputs": [
    {
     "name": "stdout",
     "output_type": "stream",
     "text": [
      "[15000, 20000, 25000, 25000, 28000]\n"
     ]
    }
   ],
   "source": [
    "print (emp_salary)"
   ]
  },
  {
   "cell_type": "code",
   "execution_count": 29,
   "id": "c1db5d62",
   "metadata": {},
   "outputs": [],
   "source": [
    "emp_salary.insert(2,22000)"
   ]
  },
  {
   "cell_type": "code",
   "execution_count": 30,
   "id": "1c80d9b5",
   "metadata": {},
   "outputs": [
    {
     "name": "stdout",
     "output_type": "stream",
     "text": [
      "[15000, 20000, 22000, 25000, 25000, 28000]\n"
     ]
    }
   ],
   "source": [
    "print (emp_salary)"
   ]
  },
  {
   "cell_type": "code",
   "execution_count": 33,
   "id": "2e347684",
   "metadata": {},
   "outputs": [
    {
     "data": {
      "text/plain": [
       "6"
      ]
     },
     "execution_count": 33,
     "metadata": {},
     "output_type": "execute_result"
    }
   ],
   "source": [
    "len (employee)"
   ]
  },
  {
   "cell_type": "code",
   "execution_count": null,
   "id": "676250a4",
   "metadata": {},
   "outputs": [],
   "source": [
    "Index and slicing that mean change employee name against Old one Name for example :: Ramesh ke Jagah Remo and Salman ke jagah Gaurav"
   ]
  },
  {
   "cell_type": "code",
   "execution_count": 34,
   "id": "24528de9",
   "metadata": {},
   "outputs": [],
   "source": [
    "employee[1] ='Remo'"
   ]
  },
  {
   "cell_type": "code",
   "execution_count": 35,
   "id": "40428a65",
   "metadata": {},
   "outputs": [
    {
     "name": "stdout",
     "output_type": "stream",
     "text": [
      "['Radha', 'Remo', 'Shiv', 'Salman', 'Krishna', 'Yadvendra']\n"
     ]
    }
   ],
   "source": [
    "print (employee)"
   ]
  },
  {
   "cell_type": "code",
   "execution_count": 38,
   "id": "210145ba",
   "metadata": {},
   "outputs": [],
   "source": [
    "employee[3] = 'Gaurav'"
   ]
  },
  {
   "cell_type": "code",
   "execution_count": 39,
   "id": "88c5646f",
   "metadata": {},
   "outputs": [
    {
     "name": "stdout",
     "output_type": "stream",
     "text": [
      "['Radha', 'Remo', 'Shiv', 'Gaurav', 'Krishna', 'Yadvendra']\n"
     ]
    }
   ],
   "source": [
    "print (employee)"
   ]
  },
  {
   "cell_type": "code",
   "execution_count": null,
   "id": "64e8ed88",
   "metadata": {},
   "outputs": [],
   "source": [
    "Vaise hi salary change kar sakte for example ; 22500 ko 24000 or 25000 ko 26500"
   ]
  },
  {
   "cell_type": "code",
   "execution_count": 40,
   "id": "8a13e787",
   "metadata": {},
   "outputs": [],
   "source": [
    "emp_salary[2] = 24000"
   ]
  },
  {
   "cell_type": "code",
   "execution_count": 42,
   "id": "c87f4790",
   "metadata": {},
   "outputs": [
    {
     "name": "stdout",
     "output_type": "stream",
     "text": [
      "[15000, 20000, 24000, 25000, 25000, 28000]\n"
     ]
    }
   ],
   "source": [
    "print (emp_salary)"
   ]
  },
  {
   "cell_type": "code",
   "execution_count": 43,
   "id": "e3346dbe",
   "metadata": {},
   "outputs": [],
   "source": [
    "emp_salary[4] = 26500"
   ]
  },
  {
   "cell_type": "code",
   "execution_count": 44,
   "id": "b8471265",
   "metadata": {},
   "outputs": [
    {
     "name": "stdout",
     "output_type": "stream",
     "text": [
      "[15000, 20000, 24000, 25000, 26500, 28000]\n"
     ]
    }
   ],
   "source": [
    "print (emp_salary)"
   ]
  },
  {
   "cell_type": "code",
   "execution_count": null,
   "id": "2663284e",
   "metadata": {},
   "outputs": [],
   "source": [
    "For Index check "
   ]
  },
  {
   "cell_type": "code",
   "execution_count": 45,
   "id": "0de9bb1e",
   "metadata": {},
   "outputs": [
    {
     "data": {
      "text/plain": [
       "[20000, 24000, 25000, 26500, 28000]"
      ]
     },
     "execution_count": 45,
     "metadata": {},
     "output_type": "execute_result"
    }
   ],
   "source": [
    "emp_salary[1:]"
   ]
  },
  {
   "cell_type": "code",
   "execution_count": 46,
   "id": "a981431d",
   "metadata": {},
   "outputs": [
    {
     "data": {
      "text/plain": [
       "[15000, 20000, 24000, 25000, 26500, 28000]"
      ]
     },
     "execution_count": 46,
     "metadata": {},
     "output_type": "execute_result"
    }
   ],
   "source": [
    "emp_salary[:6]"
   ]
  },
  {
   "cell_type": "code",
   "execution_count": 47,
   "id": "d00c2565",
   "metadata": {},
   "outputs": [
    {
     "data": {
      "text/plain": [
       "[15000, 20000, 24000, 25000, 26500]"
      ]
     },
     "execution_count": 47,
     "metadata": {},
     "output_type": "execute_result"
    }
   ],
   "source": [
    "emp_salary[:5]"
   ]
  },
  {
   "cell_type": "code",
   "execution_count": null,
   "id": "31a4809b",
   "metadata": {},
   "outputs": [],
   "source": [
    "Index 5 is not show because last index is 5 isliye except 5 ke niche sare item dikhai denge"
   ]
  },
  {
   "cell_type": "code",
   "execution_count": 48,
   "id": "b1b46b9c",
   "metadata": {},
   "outputs": [
    {
     "data": {
      "text/plain": [
       "[24000, 25000, 26500, 28000]"
      ]
     },
     "execution_count": 48,
     "metadata": {},
     "output_type": "execute_result"
    }
   ],
   "source": [
    "emp_salary[2:6]"
   ]
  },
  {
   "cell_type": "code",
   "execution_count": 49,
   "id": "e2595d3b",
   "metadata": {},
   "outputs": [
    {
     "data": {
      "text/plain": [
       "[24000, 25000, 26500]"
      ]
     },
     "execution_count": 49,
     "metadata": {},
     "output_type": "execute_result"
    }
   ],
   "source": [
    "emp_salary[2:5]"
   ]
  },
  {
   "cell_type": "code",
   "execution_count": 58,
   "id": "e639cf3d",
   "metadata": {},
   "outputs": [],
   "source": [
    "employee_salary = [[15000, 20000, 24000, 25000, 26500, 28000]]"
   ]
  },
  {
   "cell_type": "code",
   "execution_count": 68,
   "id": "9c3b84d0",
   "metadata": {},
   "outputs": [],
   "source": [
    "employee_salary = employee_salary +['30000']"
   ]
  },
  {
   "cell_type": "code",
   "execution_count": 66,
   "id": "6fd8bba7",
   "metadata": {},
   "outputs": [],
   "source": [
    "employee = employee + ['Mithun']"
   ]
  },
  {
   "cell_type": "code",
   "execution_count": 67,
   "id": "7f7289e8",
   "metadata": {},
   "outputs": [
    {
     "name": "stdout",
     "output_type": "stream",
     "text": [
      "['Radha', 'Remo', 'Shiv', 'Gaurav', 'Krishna', 'Yadvendra', 'Mithun', 'Mithun']\n"
     ]
    }
   ],
   "source": [
    "print (employee)"
   ]
  },
  {
   "cell_type": "code",
   "execution_count": 69,
   "id": "504ff2d3",
   "metadata": {},
   "outputs": [
    {
     "name": "stdout",
     "output_type": "stream",
     "text": [
      "[[15000, 20000, 24000, 25000, 26500, 28000], 30000, 30000, '30000']\n"
     ]
    }
   ],
   "source": [
    "print (employee_salary)"
   ]
  },
  {
   "cell_type": "code",
   "execution_count": 72,
   "id": "2cf2a7ad",
   "metadata": {},
   "outputs": [
    {
     "name": "stdout",
     "output_type": "stream",
     "text": [
      "******************************************************************************************\n",
      "Data Trained Education Private Limited\n",
      "******************************************************************************************\n"
     ]
    },
    {
     "data": {
      "text/plain": [
       "<function print>"
      ]
     },
     "execution_count": 72,
     "metadata": {},
     "output_type": "execute_result"
    }
   ],
   "source": [
    "print ('*' * 90)\n",
    "print ('Data Trained Education Private Limited')\n",
    "print ('*' * 90)\n",
    "print"
   ]
  },
  {
   "cell_type": "code",
   "execution_count": 73,
   "id": "5c510463",
   "metadata": {},
   "outputs": [
    {
     "name": "stdout",
     "output_type": "stream",
     "text": [
      "@#@#@#@#@#@#@#@#@#@#@#@#@#@#@#@#@#@#@#@#@#@#@#@#@#@#@#@#@#@#@#@#@#@#@#@#@#@#@#@#@#@#@#@#@#@#@#@#@#@#@#@#@#@#@#@#@#@#@#@#@#@#@#@#@#@#@#@#@#@#@#@#@#@#@#@#@#@#@#@#@#@#@#@#@#@#@#@#@#@#@#@#@#@#@#@#@#@#@#@#@#@#@#@#@#@#@#@#@#@#\n",
      "WELCOME INDIAN FOR DATA TRAINED COURSE\n",
      "@#@#@#@#@#@#@#@#@#@#@#@#@#@#@#@#@#@#@#@#@#@#@#@#@#@#@#@#@#@#@#@#@#@#@#@#@#@#@#@#@#@#@#@#@#@#@#@#@#@#@#@#@#@#@#@#@#@#@#@#@#@#@#@#@#@#@#@#@#@#@#@#@#@#@#@#@#@#@#@#@#@#@#@#@#@#@#@#@#@#@#@#@#@#@#@#@#@#@#@#@#@#@#@#@#@#@#@#@#@#\n"
     ]
    }
   ],
   "source": [
    "print ('@#' * 110)\n",
    "print ('WELCOME INDIAN FOR DATA TRAINED COURSE')\n",
    "print ('@#' * 110)"
   ]
  },
  {
   "cell_type": "code",
   "execution_count": 74,
   "id": "b566e1ec",
   "metadata": {},
   "outputs": [
    {
     "name": "stdout",
     "output_type": "stream",
     "text": [
      "$$$$$$$$$$ ====================\n"
     ]
    }
   ],
   "source": [
    "print ('$' * 10, '=' * 20)"
   ]
  },
  {
   "cell_type": "code",
   "execution_count": 75,
   "id": "3d22e146",
   "metadata": {},
   "outputs": [
    {
     "name": "stdout",
     "output_type": "stream",
     "text": [
      "####################################################################################################\n",
      "END TODAY CLASS\n",
      "####################################################################################################\n"
     ]
    }
   ],
   "source": [
    "print ('#' * 100)\n",
    "print ('END TODAY CLASS' )\n",
    "print ('#' * 100)"
   ]
  },
  {
   "cell_type": "code",
   "execution_count": null,
   "id": "84e2996d",
   "metadata": {},
   "outputs": [],
   "source": []
  }
 ],
 "metadata": {
  "kernelspec": {
   "display_name": "Python 3 (ipykernel)",
   "language": "python",
   "name": "python3"
  },
  "language_info": {
   "codemirror_mode": {
    "name": "ipython",
    "version": 3
   },
   "file_extension": ".py",
   "mimetype": "text/x-python",
   "name": "python",
   "nbconvert_exporter": "python",
   "pygments_lexer": "ipython3",
   "version": "3.9.12"
  }
 },
 "nbformat": 4,
 "nbformat_minor": 5
}
