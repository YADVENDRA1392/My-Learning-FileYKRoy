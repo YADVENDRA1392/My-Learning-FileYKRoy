{
 "cells": [
  {
   "cell_type": "code",
   "execution_count": 1,
   "id": "c16aeae1",
   "metadata": {},
   "outputs": [],
   "source": [
    "Work_location=('Bengaluru','Noida','Chennai','Delhi','Shillong', 'Guwahati')"
   ]
  },
  {
   "cell_type": "code",
   "execution_count": 5,
   "id": "bf5f1f9b",
   "metadata": {},
   "outputs": [
    {
     "data": {
      "text/plain": [
       "('Bengaluru', 'Noida', 'Chennai', 'Delhi', 'Shillong', 'Guwahati')"
      ]
     },
     "execution_count": 5,
     "metadata": {},
     "output_type": "execute_result"
    }
   ],
   "source": [
    "Work_location"
   ]
  },
  {
   "cell_type": "code",
   "execution_count": 9,
   "id": "29d158fa",
   "metadata": {},
   "outputs": [],
   "source": [
    "emp_salary = [20000,25000,30000,35000,40000,45000]"
   ]
  },
  {
   "cell_type": "code",
   "execution_count": 10,
   "id": "72c4dc34",
   "metadata": {},
   "outputs": [],
   "source": [
    "Work_location=list(Work_location)"
   ]
  },
  {
   "cell_type": "code",
   "execution_count": 11,
   "id": "5775e6a1",
   "metadata": {},
   "outputs": [],
   "source": [
    "Work_location.append('Hydrabad')"
   ]
  },
  {
   "cell_type": "code",
   "execution_count": 12,
   "id": "2d5b2c02",
   "metadata": {},
   "outputs": [],
   "source": [
    "Work_location=tuple (Work_location)"
   ]
  },
  {
   "cell_type": "code",
   "execution_count": 13,
   "id": "4b850b62",
   "metadata": {},
   "outputs": [
    {
     "data": {
      "text/plain": [
       "('Bengaluru', 'Noida', 'Chennai', 'Delhi', 'Shillong', 'Guwahati', 'Hydrabad')"
      ]
     },
     "execution_count": 13,
     "metadata": {},
     "output_type": "execute_result"
    }
   ],
   "source": [
    "Work_location"
   ]
  },
  {
   "cell_type": "code",
   "execution_count": 14,
   "id": "f6105bcb",
   "metadata": {},
   "outputs": [],
   "source": [
    "emp_salary.append('50000')"
   ]
  },
  {
   "cell_type": "code",
   "execution_count": 15,
   "id": "5c2f2744",
   "metadata": {},
   "outputs": [],
   "source": [
    "emp_salary=tuple (emp_salary)"
   ]
  },
  {
   "cell_type": "code",
   "execution_count": 16,
   "id": "c58cf0f0",
   "metadata": {},
   "outputs": [
    {
     "data": {
      "text/plain": [
       "(20000, 25000, 30000, 35000, 40000, 45000, '50000')"
      ]
     },
     "execution_count": 16,
     "metadata": {},
     "output_type": "execute_result"
    }
   ],
   "source": [
    "emp_salary"
   ]
  },
  {
   "cell_type": "code",
   "execution_count": 17,
   "id": "1948f04a",
   "metadata": {},
   "outputs": [],
   "source": [
    "numbers=(25,50,88,90,50)"
   ]
  },
  {
   "cell_type": "code",
   "execution_count": 18,
   "id": "4e4a8c91",
   "metadata": {},
   "outputs": [
    {
     "data": {
      "text/plain": [
       "1"
      ]
     },
     "execution_count": 18,
     "metadata": {},
     "output_type": "execute_result"
    }
   ],
   "source": [
    "numbers.index(50)"
   ]
  },
  {
   "cell_type": "code",
   "execution_count": 19,
   "id": "dad5aabc",
   "metadata": {},
   "outputs": [
    {
     "data": {
      "text/plain": [
       "2"
      ]
     },
     "execution_count": 19,
     "metadata": {},
     "output_type": "execute_result"
    }
   ],
   "source": [
    "numbers.count(50)"
   ]
  },
  {
   "cell_type": "code",
   "execution_count": null,
   "id": "79a538e1",
   "metadata": {},
   "outputs": [],
   "source": [
    "Sets"
   ]
  },
  {
   "cell_type": "code",
   "execution_count": 23,
   "id": "0837af42",
   "metadata": {},
   "outputs": [
    {
     "name": "stdout",
     "output_type": "stream",
     "text": [
      "{1, 2}\n"
     ]
    }
   ],
   "source": [
    "roll_numbers=set()\n",
    "roll_numbers.add(1)\n",
    "roll_numbers.add(2)\n",
    "print(roll_numbers)"
   ]
  },
  {
   "cell_type": "code",
   "execution_count": 24,
   "id": "b69e51a2",
   "metadata": {},
   "outputs": [],
   "source": [
    "remove_dups=[8,5,6,9,1,1,2,2,3,4,5,6,1,]"
   ]
  },
  {
   "cell_type": "code",
   "execution_count": 26,
   "id": "16f4a956",
   "metadata": {},
   "outputs": [],
   "source": [
    "dup_removed = set (remove_dups)"
   ]
  },
  {
   "cell_type": "code",
   "execution_count": 27,
   "id": "e67deddb",
   "metadata": {},
   "outputs": [
    {
     "data": {
      "text/plain": [
       "{1, 2, 3, 4, 5, 6, 8, 9}"
      ]
     },
     "execution_count": 27,
     "metadata": {},
     "output_type": "execute_result"
    }
   ],
   "source": [
    "dup_removed"
   ]
  },
  {
   "cell_type": "code",
   "execution_count": 28,
   "id": "e4f6512c",
   "metadata": {},
   "outputs": [],
   "source": [
    "remove_dups=list(dup_removed)"
   ]
  },
  {
   "cell_type": "code",
   "execution_count": 29,
   "id": "f316439e",
   "metadata": {},
   "outputs": [
    {
     "data": {
      "text/plain": [
       "[1, 2, 3, 4, 5, 6, 8, 9]"
      ]
     },
     "execution_count": 29,
     "metadata": {},
     "output_type": "execute_result"
    }
   ],
   "source": [
    "remove_dups"
   ]
  },
  {
   "cell_type": "code",
   "execution_count": null,
   "id": "648a6066",
   "metadata": {},
   "outputs": [],
   "source": []
  }
 ],
 "metadata": {
  "kernelspec": {
   "display_name": "Python 3 (ipykernel)",
   "language": "python",
   "name": "python3"
  },
  "language_info": {
   "codemirror_mode": {
    "name": "ipython",
    "version": 3
   },
   "file_extension": ".py",
   "mimetype": "text/x-python",
   "name": "python",
   "nbconvert_exporter": "python",
   "pygments_lexer": "ipython3",
   "version": "3.9.12"
  }
 },
 "nbformat": 4,
 "nbformat_minor": 5
}
