{
 "cells": [
  {
   "cell_type": "code",
   "execution_count": null,
   "id": "6cd632bd",
   "metadata": {},
   "outputs": [],
   "source": [
    "Functions"
   ]
  },
  {
   "cell_type": "code",
   "execution_count": 1,
   "id": "aab0bb93",
   "metadata": {},
   "outputs": [],
   "source": [
    "def Yadav_Hello():\n",
    "    print ('India is a Big Country')"
   ]
  },
  {
   "cell_type": "code",
   "execution_count": 3,
   "id": "20d6ddd9",
   "metadata": {},
   "outputs": [
    {
     "name": "stdout",
     "output_type": "stream",
     "text": [
      "India is a Big Country\n"
     ]
    }
   ],
   "source": [
    "Yadav_Hello()"
   ]
  },
  {
   "cell_type": "code",
   "execution_count": 4,
   "id": "64d6d381",
   "metadata": {},
   "outputs": [],
   "source": [
    "def greeting(name):\n",
    "    print ('Hello', name)"
   ]
  },
  {
   "cell_type": "code",
   "execution_count": 5,
   "id": "a2a77ad6",
   "metadata": {},
   "outputs": [
    {
     "name": "stdout",
     "output_type": "stream",
     "text": [
      "Hello Good Morning\n"
     ]
    }
   ],
   "source": [
    "greeting('Good Morning')"
   ]
  },
  {
   "cell_type": "code",
   "execution_count": null,
   "id": "9e95baea",
   "metadata": {},
   "outputs": [],
   "source": [
    "Using Return"
   ]
  },
  {
   "cell_type": "code",
   "execution_count": null,
   "id": "0f4c9f0a",
   "metadata": {},
   "outputs": [],
   "source": [
    "Without return function not work def"
   ]
  },
  {
   "cell_type": "code",
   "execution_count": 7,
   "id": "0b09810d",
   "metadata": {},
   "outputs": [],
   "source": [
    "def salary_increase(fixed_salary,house_rent):\n",
    "    total_salary = (fixed_salary + house_rent)\n",
    "    \n",
    "    if total_salary <= 9000:\n",
    "        total_salary + 1000\n",
    "    \n",
    "    else:\n",
    "        total_salary"
   ]
  },
  {
   "cell_type": "code",
   "execution_count": 10,
   "id": "ad1b9155",
   "metadata": {},
   "outputs": [
    {
     "name": "stdout",
     "output_type": "stream",
     "text": [
      "Your New Salary = None\n"
     ]
    }
   ],
   "source": [
    "print ('Your New Salary =', salary_increase(6500,2000))"
   ]
  },
  {
   "cell_type": "code",
   "execution_count": null,
   "id": "bc170357",
   "metadata": {},
   "outputs": [],
   "source": [
    "With return function then work doing working"
   ]
  },
  {
   "cell_type": "code",
   "execution_count": 11,
   "id": "5fc33044",
   "metadata": {},
   "outputs": [],
   "source": [
    "def salary_increase(fixed_salary,house_rent):\n",
    "    total_salary = (fixed_salary + house_rent)\n",
    "    \n",
    "    if total_salary <= 9000:\n",
    "        return total_salary + 1000\n",
    "    \n",
    "    else:\n",
    "        return total_salary"
   ]
  },
  {
   "cell_type": "code",
   "execution_count": 12,
   "id": "25f04d9d",
   "metadata": {},
   "outputs": [
    {
     "name": "stdout",
     "output_type": "stream",
     "text": [
      "Your New Salary = 9500\n"
     ]
    }
   ],
   "source": [
    "print ('Your New Salary =', salary_increase(6500,2000))"
   ]
  },
  {
   "cell_type": "code",
   "execution_count": 20,
   "id": "95bc687a",
   "metadata": {},
   "outputs": [],
   "source": [
    "def salary_increase(fixed_salary,house_rent):\n",
    "    total_salary = (fixed_salary + house_rent)\n",
    "    \n",
    "    if total_salary <= 9000:\n",
    "        return total_salary + 1000\n",
    "    \n",
    "    else:\n",
    "        return total_salary"
   ]
  },
  {
   "cell_type": "code",
   "execution_count": 21,
   "id": "92d8a8a1",
   "metadata": {},
   "outputs": [
    {
     "name": "stdout",
     "output_type": "stream",
     "text": [
      "Your New Salary = 12500\n"
     ]
    }
   ],
   "source": [
    "print ('Your New Salary =', salary_increase(10500,2000))"
   ]
  },
  {
   "cell_type": "code",
   "execution_count": null,
   "id": "f2eab873",
   "metadata": {},
   "outputs": [],
   "source": [
    "Iss rate me 1000 rs nahi add huaa kyoki total amount 9000 se jyada hai.\n",
    "9000 se kam hone par 1000 add huaa hai."
   ]
  },
  {
   "cell_type": "code",
   "execution_count": 12,
   "id": "9529065d",
   "metadata": {},
   "outputs": [],
   "source": [
    "def used_car_price(Manufacturing_Year,Car_Brand,Kilometer):\n",
    "    if Manufacturing_Year == 2020:\n",
    "        if 10000 < Kilometer <= 15000:\n",
    "            if Car_Brand == 'Honda Amaze':\n",
    "                print('Rs. 6,50,000 - Rs. 7,50,000')\n",
    "            elif Car_Brand == 'Maruti Ertiga':\n",
    "                Print('Rs.6,25,000 - Rs. 6,75,000')\n",
    "            else:\n",
    "                print('No Stock right now, please visit after few days')\n",
    "            \n",
    "            \n",
    "        elif 15001 < Kilometer <= 25000:\n",
    "            if Car_Brand == 'Honda Amaze':\n",
    "                print('Rs. 6,00,000 - Rs. 6,25,000')\n",
    "            \n",
    "            elif Car_Brand == 'Maruti Ertiga':\n",
    "                print('Rs. 5,75,000 - Rs. 6,00,000')\n",
    "                \n",
    "            else:\n",
    "                print('No Stock right now, please visit after few days')\n",
    "            \n",
    "        else:\n",
    "            print('No stock')\n",
    "                \n",
    "    \n",
    "    \n",
    "    elif Manufacturing_Year == 2021:\n",
    "        if 10000 < Kilometer <= 15000:\n",
    "            if Car_Brand == 'Honda Amaze':\n",
    "                print('Rs. 7,50,000 - Rs. 8,50,000')\n",
    "            elif Car_Brand == 'Maruti Ertiga':\n",
    "                Print ('Rs.7,25,000 - Rs. 7,75,000')\n",
    "            else:\n",
    "                print('No Stock right now, please visit after few days')\n",
    "        \n",
    "        else:\n",
    "            print('No Stock right now, please visit after few days')\n",
    "    else:\n",
    "        print(\"Sorry, We donot keep car's older than 2020\")\n",
    "                "
   ]
  },
  {
   "cell_type": "code",
   "execution_count": 13,
   "id": "fef4c470",
   "metadata": {},
   "outputs": [
    {
     "name": "stdout",
     "output_type": "stream",
     "text": [
      "Rs. 6,50,000 - Rs. 7,50,000\n"
     ]
    }
   ],
   "source": [
    "used_car_price(2020,'Honda Amaze',10001)"
   ]
  },
  {
   "cell_type": "code",
   "execution_count": 14,
   "id": "a9fd0ce3",
   "metadata": {},
   "outputs": [
    {
     "name": "stdout",
     "output_type": "stream",
     "text": [
      "Rs. 7,50,000 - Rs. 8,50,000\n"
     ]
    }
   ],
   "source": [
    "used_car_price(2021,'Honda Amaze',10001)"
   ]
  },
  {
   "cell_type": "code",
   "execution_count": 15,
   "id": "ccd4f8c8",
   "metadata": {},
   "outputs": [
    {
     "name": "stdout",
     "output_type": "stream",
     "text": [
      "Rs. 5,75,000 - Rs. 6,00,000\n"
     ]
    }
   ],
   "source": [
    "used_car_price(2020,'Maruti Ertiga',15500)"
   ]
  },
  {
   "cell_type": "code",
   "execution_count": 17,
   "id": "2b5c5330",
   "metadata": {},
   "outputs": [
    {
     "name": "stdout",
     "output_type": "stream",
     "text": [
      "Rs. 7,50,000 - Rs. 8,50,000\n"
     ]
    }
   ],
   "source": [
    "used_car_price(2021,'Honda Amaze',11500)"
   ]
  },
  {
   "cell_type": "code",
   "execution_count": null,
   "id": "4166a955",
   "metadata": {},
   "outputs": [],
   "source": []
  }
 ],
 "metadata": {
  "kernelspec": {
   "display_name": "Python 3 (ipykernel)",
   "language": "python",
   "name": "python3"
  },
  "language_info": {
   "codemirror_mode": {
    "name": "ipython",
    "version": 3
   },
   "file_extension": ".py",
   "mimetype": "text/x-python",
   "name": "python",
   "nbconvert_exporter": "python",
   "pygments_lexer": "ipython3",
   "version": "3.9.12"
  }
 },
 "nbformat": 4,
 "nbformat_minor": 5
}
