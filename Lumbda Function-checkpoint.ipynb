{
 "cells": [
  {
   "cell_type": "code",
   "execution_count": null,
   "id": "b9c6e404",
   "metadata": {},
   "outputs": [],
   "source": [
    "lambda arguments : expression"
   ]
  },
  {
   "cell_type": "code",
   "execution_count": 1,
   "id": "b6a45a64",
   "metadata": {},
   "outputs": [
    {
     "name": "stdout",
     "output_type": "stream",
     "text": [
      "80\n"
     ]
    }
   ],
   "source": [
    "add_num = lambda y : y + 30\n",
    "print (add_num(50))"
   ]
  },
  {
   "cell_type": "code",
   "execution_count": 2,
   "id": "c8e99810",
   "metadata": {},
   "outputs": [
    {
     "name": "stdout",
     "output_type": "stream",
     "text": [
      "300\n"
     ]
    }
   ],
   "source": [
    "multi_num = lambda a, b : a * b\n",
    "print (multi_num(15,20))"
   ]
  },
  {
   "cell_type": "code",
   "execution_count": null,
   "id": "f23443c1",
   "metadata": {},
   "outputs": [],
   "source": [
    "*args and **kwargs"
   ]
  },
  {
   "cell_type": "code",
   "execution_count": 3,
   "id": "052ed869",
   "metadata": {},
   "outputs": [],
   "source": [
    "def my_fun(*args):\n",
    "    for i in args:\n",
    "        print ('my args: -', i)\n",
    "        "
   ]
  },
  {
   "cell_type": "code",
   "execution_count": 8,
   "id": "31b4216a",
   "metadata": {},
   "outputs": [
    {
     "name": "stdout",
     "output_type": "stream",
     "text": [
      "my args: - India\n",
      "my args: - City\n",
      "my args: - Benguluru\n",
      "my args: - Chennai\n",
      "my args: - Delhi\n",
      "my args: - are\n",
      "my args: - big city\n",
      "my args: - 793003\n"
     ]
    }
   ],
   "source": [
    "my_fun('India','City','Benguluru', 'Chennai', 'Delhi', 'are', 'big city', 793003)"
   ]
  },
  {
   "cell_type": "code",
   "execution_count": 10,
   "id": "95cd3007",
   "metadata": {},
   "outputs": [],
   "source": [
    "def my_kwargs(**kwargs):\n",
    "    for key,value in kwargs.items():\n",
    "        \n",
    "        print (key, '=', value)"
   ]
  },
  {
   "cell_type": "code",
   "execution_count": 11,
   "id": "61a31bca",
   "metadata": {},
   "outputs": [
    {
     "name": "stdout",
     "output_type": "stream",
     "text": [
      "Students = ['Ram', 'Shiva']\n",
      "Marks = [70, 75]\n"
     ]
    }
   ],
   "source": [
    "my_kwargs(Students=['Ram','Shiva'],Marks =[70,75])"
   ]
  },
  {
   "cell_type": "code",
   "execution_count": null,
   "id": "2ab29022",
   "metadata": {},
   "outputs": [],
   "source": []
  }
 ],
 "metadata": {
  "kernelspec": {
   "display_name": "Python 3 (ipykernel)",
   "language": "python",
   "name": "python3"
  },
  "language_info": {
   "codemirror_mode": {
    "name": "ipython",
    "version": 3
   },
   "file_extension": ".py",
   "mimetype": "text/x-python",
   "name": "python",
   "nbconvert_exporter": "python",
   "pygments_lexer": "ipython3",
   "version": "3.9.12"
  }
 },
 "nbformat": 4,
 "nbformat_minor": 5
}
