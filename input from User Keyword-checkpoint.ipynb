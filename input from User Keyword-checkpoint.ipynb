{
 "cells": [
  {
   "cell_type": "code",
   "execution_count": 2,
   "id": "2f6952e3",
   "metadata": {},
   "outputs": [
    {
     "name": "stdout",
     "output_type": "stream",
     "text": [
      "Enter your NameYadvendra\n",
      "User Entered:  Yadvendra\n"
     ]
    }
   ],
   "source": [
    "name = input(\"Enter your Name\" )\n",
    "\n",
    "print ('User Entered: ',name)"
   ]
  },
  {
   "cell_type": "code",
   "execution_count": 1,
   "id": "1bcb550e",
   "metadata": {},
   "outputs": [
    {
     "name": "stdout",
     "output_type": "stream",
     "text": [
      "Enter mobile_no9089888200\n",
      "User Entered:  9089888200\n"
     ]
    }
   ],
   "source": [
    "mobile_no = input(\"Enter mobile_no\")\n",
    "\n",
    "print ('User Entered: ', mobile_no)"
   ]
  },
  {
   "cell_type": "code",
   "execution_count": 4,
   "id": "6c4c4a55",
   "metadata": {},
   "outputs": [
    {
     "name": "stdout",
     "output_type": "stream",
     "text": [
      "Enter maths score 85\n",
      "Enter science score80\n",
      "Your total marks  165\n"
     ]
    }
   ],
   "source": [
    "maths = int(input('Enter maths score '))\n",
    "\n",
    "science = int(input('Enter science score'))\n",
    "\n",
    "total_marks = maths + science\n",
    "\n",
    "print ('Your total marks ', total_marks)"
   ]
  },
  {
   "cell_type": "code",
   "execution_count": null,
   "id": "ceaf6f7e",
   "metadata": {},
   "outputs": [],
   "source": [
    "HOW TO CHECK ONLY ALPHABET"
   ]
  },
  {
   "cell_type": "code",
   "execution_count": 7,
   "id": "8989c38e",
   "metadata": {},
   "outputs": [
    {
     "name": "stdout",
     "output_type": "stream",
     "text": [
      "Enter your name = Geeta\n",
      "You Entered =  Geeta\n"
     ]
    }
   ],
   "source": [
    "name = input('Enter your name = ')\n",
    "\n",
    "if name.isalpha():\n",
    "    print ('You Entered = ',name)\n",
    "    \n",
    "else:\n",
    "    print ('Enter only alpha charactors')\n"
   ]
  },
  {
   "cell_type": "code",
   "execution_count": 6,
   "id": "847769a9",
   "metadata": {},
   "outputs": [],
   "source": [
    "def used_car_price(Manufacturing_Year, Car_Brand, Kilometer):\n",
    "    if Manufacturing_Year == 2020:\n",
    "        if 10000 < Kilometer <= 15000:\n",
    "            if Car_Brand == 'Honda Amaze':\n",
    "                print('Rs. 6,50,000 - Rs. 7,50,000')\n",
    "            elif Car_Brand == 'Maruti Ertiga':\n",
    "                print('Rs.6,25,000 - Rs. 6,75,000')\n",
    "            else:\n",
    "                print('No Stock right now, please visit after few days')\n",
    "            \n",
    "            \n",
    "        elif 15001 < Kilometer <= 25000:\n",
    "            if Car_Brand == 'Honda Amaze':\n",
    "                print('Rs. 6,00,000 - Rs. 6,25,000')\n",
    "            \n",
    "            elif Car_Brand == 'Maruti Ertiga':\n",
    "                print('Rs. 5,75,000 - Rs. 6,00,000')\n",
    "                \n",
    "            else:\n",
    "                print('No Stock right now, please visit after few days')\n",
    "            \n",
    "        else:\n",
    "            print('No stock')\n",
    "                \n",
    "    \n",
    "    \n",
    "    elif Manufacturing_Year == 2021:\n",
    "        if 10000 < Kilometer <= 15000:\n",
    "            if Car_Brand == 'Honda Amaze':\n",
    "                print('Rs. 7,50,000 - Rs. 8,50,000')\n",
    "            elif Car_Brand == 'Maruti Ertiga':\n",
    "                print ('Rs.7,25,000 - Rs. 7,75,000')\n",
    "            else:\n",
    "                print('No Stock right now, please visit after few days')\n",
    "        \n",
    "        else:\n",
    "            print('No Stock right now, please visit after few days')\n",
    "    else:\n",
    "        print(\"Sorry, We donot keep car's older than 2020\")\n",
    "                "
   ]
  },
  {
   "cell_type": "code",
   "execution_count": 8,
   "id": "295a79ab",
   "metadata": {},
   "outputs": [
    {
     "name": "stdout",
     "output_type": "stream",
     "text": [
      "Enter Car_Brand -Honda Amaze\n",
      "Kilometer -12500\n",
      "Manufacturing_year -2020\n",
      "Sorry, We donot keep car's older than 2020\n"
     ]
    }
   ],
   "source": [
    "Car_Brand = input ('Enter Car_Brand -')\n",
    "Kilometer = int(input('Kilometer -'))\n",
    "Manufacturing_year = int(input('Manufacturing_year -'))\n",
    "\n",
    "used_car_price(Car_Brand, Kilometer, Manufacturing_year)"
   ]
  },
  {
   "cell_type": "code",
   "execution_count": 9,
   "id": "91fd61bc",
   "metadata": {},
   "outputs": [],
   "source": [
    "def used_car_price(car_year, car_brand, kmeters):\n",
    "    if car_year == 2020:\n",
    "        if 10000 < kmeters <= 15000:\n",
    "            if car_brand == 'Honda Amaze':\n",
    "                print('Rs 690,000 - Rs 750,000')\n",
    "            elif car_brand == 'Hyundai Creta':\n",
    "                print('Rs 945,000 - Rs 10,80,000')\n",
    "            else:\n",
    "                print('No Stock right now, please visit after few days')\n",
    "            \n",
    "            \n",
    "        elif 15001 < kmeters <= 25000:\n",
    "            if car_brand == 'Honda Amaze':\n",
    "                print('Rs 550,000 - Rs 600,000')\n",
    "            \n",
    "            elif car_brand == 'Hyundai Creta':\n",
    "                print('Rs 845,000 - Rs 980,000')\n",
    "                \n",
    "            else:\n",
    "                print('No Stock right now, please visit after few days')\n",
    "            \n",
    "        else:\n",
    "            print('No stock')\n",
    "                \n",
    "        \n",
    "    elif car_year == 2021:\n",
    "        if 10000 < kmeters <= 15000:\n",
    "            if car_brand == 'Honda Amaze':\n",
    "                print('Rs 790,000 - Rs 850,000')\n",
    "            elif car_brand == 'Hyundai Creta':\n",
    "                print ('Rs 10,45,000 - Rs 11,80,000')\n",
    "            else:\n",
    "                print('No Stock right now, please visit after few days')\n",
    "        else:\n",
    "            print('No Stock right now, please visit after few days')\n",
    "    else:\n",
    "        print(\"Sorry, We donot keep car's older than 2020\")\n",
    "                "
   ]
  },
  {
   "cell_type": "code",
   "execution_count": 11,
   "id": "fca8c2a8",
   "metadata": {},
   "outputs": [
    {
     "name": "stdout",
     "output_type": "stream",
     "text": [
      "Enter Car Brand - Honda Amaze\n",
      "Enter Kilometeres - 17500\n",
      "Enter manufacturing year - 2020\n",
      "Rs 550,000 - Rs 600,000\n"
     ]
    }
   ],
   "source": [
    "car_brd = input ('Enter Car Brand - ')\n",
    "km_driven = int(input('Enter Kilometeres - '))\n",
    "manu_yr = int(input('Enter manufacturing year - '))\n",
    "\n",
    "used_car_price(manu_yr, car_brd, km_driven)"
   ]
  },
  {
   "cell_type": "code",
   "execution_count": 12,
   "id": "6175bc7b",
   "metadata": {},
   "outputs": [
    {
     "name": "stdout",
     "output_type": "stream",
     "text": [
      "Enter Car Brand - Hyundai Creta\n",
      "Enter Kilometeres - 12750\n",
      "Enter manufacturing year - 2021\n",
      "Rs 10,45,000 - Rs 11,80,000\n"
     ]
    }
   ],
   "source": [
    "car_brd = input ('Enter Car Brand - ')\n",
    "km_driven = int(input('Enter Kilometeres - '))\n",
    "manu_yr = int(input('Enter manufacturing year - '))\n",
    "\n",
    "used_car_price(manu_yr, car_brd, km_driven)"
   ]
  },
  {
   "cell_type": "code",
   "execution_count": null,
   "id": "0700c17f",
   "metadata": {},
   "outputs": [],
   "source": []
  }
 ],
 "metadata": {
  "kernelspec": {
   "display_name": "Python 3 (ipykernel)",
   "language": "python",
   "name": "python3"
  },
  "language_info": {
   "codemirror_mode": {
    "name": "ipython",
    "version": 3
   },
   "file_extension": ".py",
   "mimetype": "text/x-python",
   "name": "python",
   "nbconvert_exporter": "python",
   "pygments_lexer": "ipython3",
   "version": "3.9.12"
  }
 },
 "nbformat": 4,
 "nbformat_minor": 5
}
