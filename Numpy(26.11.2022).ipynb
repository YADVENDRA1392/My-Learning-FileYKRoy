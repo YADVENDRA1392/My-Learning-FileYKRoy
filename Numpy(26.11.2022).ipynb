{
 "cells": [
  {
   "cell_type": "code",
   "execution_count": null,
   "id": "f8eb87de",
   "metadata": {},
   "outputs": [],
   "source": [
    "Numpy Array"
   ]
  },
  {
   "cell_type": "code",
   "execution_count": 4,
   "id": "1c70952f",
   "metadata": {},
   "outputs": [],
   "source": [
    "import numpy as np"
   ]
  },
  {
   "cell_type": "code",
   "execution_count": 6,
   "id": "2c909860",
   "metadata": {},
   "outputs": [
    {
     "name": "stdout",
     "output_type": "stream",
     "text": [
      "['ALLOW_THREADS', 'AxisError', 'BUFSIZE', 'Bytes0', 'CLIP', 'ComplexWarning', 'DataSource', 'Datetime64', 'ERR_CALL', 'ERR_DEFAULT', 'ERR_IGNORE', 'ERR_LOG', 'ERR_PRINT', 'ERR_RAISE', 'ERR_WARN', 'FLOATING_POINT_SUPPORT', 'FPE_DIVIDEBYZERO', 'FPE_INVALID', 'FPE_OVERFLOW', 'FPE_UNDERFLOW', 'False_', 'Inf', 'Infinity', 'MAXDIMS', 'MAY_SHARE_BOUNDS', 'MAY_SHARE_EXACT', 'MachAr', 'ModuleDeprecationWarning', 'NAN', 'NINF', 'NZERO', 'NaN', 'PINF', 'PZERO', 'RAISE', 'RankWarning', 'SHIFT_DIVIDEBYZERO', 'SHIFT_INVALID', 'SHIFT_OVERFLOW', 'SHIFT_UNDERFLOW', 'ScalarType', 'Str0', 'Tester', 'TooHardError', 'True_', 'UFUNC_BUFSIZE_DEFAULT', 'UFUNC_PYVALS_NAME', 'Uint64', 'VisibleDeprecationWarning', 'WRAP', '_NoValue', '_UFUNC_API', '__NUMPY_SETUP__', '__all__', '__builtins__', '__cached__', '__config__', '__deprecated_attrs__', '__dir__', '__doc__', '__expired_functions__', '__file__', '__getattr__', '__git_version__', '__loader__', '__mkl_version__', '__name__', '__package__', '__path__', '__spec__', '__version__', '_add_newdoc_ufunc', '_distributor_init', '_financial_names', '_globals', '_mat', '_pytesttester', '_version', 'abs', 'absolute', 'add', 'add_docstring', 'add_newdoc', 'add_newdoc_ufunc', 'alen', 'all', 'allclose', 'alltrue', 'amax', 'amin', 'angle', 'any', 'append', 'apply_along_axis', 'apply_over_axes', 'arange', 'arccos', 'arccosh', 'arcsin', 'arcsinh', 'arctan', 'arctan2', 'arctanh', 'argmax', 'argmin', 'argpartition', 'argsort', 'argwhere', 'around', 'array', 'array2string', 'array_equal', 'array_equiv', 'array_repr', 'array_split', 'array_str', 'asanyarray', 'asarray', 'asarray_chkfinite', 'ascontiguousarray', 'asfarray', 'asfortranarray', 'asmatrix', 'asscalar', 'atleast_1d', 'atleast_2d', 'atleast_3d', 'average', 'bartlett', 'base_repr', 'binary_repr', 'bincount', 'bitwise_and', 'bitwise_not', 'bitwise_or', 'bitwise_xor', 'blackman', 'block', 'bmat', 'bool8', 'bool_', 'broadcast', 'broadcast_arrays', 'broadcast_shapes', 'broadcast_to', 'busday_count', 'busday_offset', 'busdaycalendar', 'byte', 'byte_bounds', 'bytes0', 'bytes_', 'c_', 'can_cast', 'cast', 'cbrt', 'cdouble', 'ceil', 'cfloat', 'char', 'character', 'chararray', 'choose', 'clip', 'clongdouble', 'clongfloat', 'column_stack', 'common_type', 'compare_chararrays', 'compat', 'complex128', 'complex64', 'complex_', 'complexfloating', 'compress', 'concatenate', 'conj', 'conjugate', 'convolve', 'copy', 'copysign', 'copyto', 'core', 'corrcoef', 'correlate', 'cos', 'cosh', 'count_nonzero', 'cov', 'cross', 'csingle', 'ctypeslib', 'cumprod', 'cumproduct', 'cumsum', 'datetime64', 'datetime_as_string', 'datetime_data', 'deg2rad', 'degrees', 'delete', 'deprecate', 'deprecate_with_doc', 'diag', 'diag_indices', 'diag_indices_from', 'diagflat', 'diagonal', 'diff', 'digitize', 'disp', 'divide', 'divmod', 'dot', 'double', 'dsplit', 'dstack', 'dtype', 'e', 'ediff1d', 'einsum', 'einsum_path', 'emath', 'empty', 'empty_like', 'equal', 'errstate', 'euler_gamma', 'exp', 'exp2', 'expand_dims', 'expm1', 'extract', 'eye', 'fabs', 'fastCopyAndTranspose', 'fft', 'fill_diagonal', 'find_common_type', 'finfo', 'fix', 'flatiter', 'flatnonzero', 'flexible', 'flip', 'fliplr', 'flipud', 'float16', 'float32', 'float64', 'float_', 'float_power', 'floating', 'floor', 'floor_divide', 'fmax', 'fmin', 'fmod', 'format_float_positional', 'format_float_scientific', 'format_parser', 'frexp', 'frombuffer', 'fromfile', 'fromfunction', 'fromiter', 'frompyfunc', 'fromregex', 'fromstring', 'full', 'full_like', 'gcd', 'generic', 'genfromtxt', 'geomspace', 'get_array_wrap', 'get_include', 'get_printoptions', 'getbufsize', 'geterr', 'geterrcall', 'geterrobj', 'gradient', 'greater', 'greater_equal', 'half', 'hamming', 'hanning', 'heaviside', 'histogram', 'histogram2d', 'histogram_bin_edges', 'histogramdd', 'hsplit', 'hstack', 'hypot', 'i0', 'identity', 'iinfo', 'imag', 'in1d', 'index_exp', 'indices', 'inexact', 'inf', 'info', 'infty', 'inner', 'insert', 'int0', 'int16', 'int32', 'int64', 'int8', 'int_', 'intc', 'integer', 'interp', 'intersect1d', 'intp', 'invert', 'is_busday', 'isclose', 'iscomplex', 'iscomplexobj', 'isfinite', 'isfortran', 'isin', 'isinf', 'isnan', 'isnat', 'isneginf', 'isposinf', 'isreal', 'isrealobj', 'isscalar', 'issctype', 'issubclass_', 'issubdtype', 'issubsctype', 'iterable', 'ix_', 'kaiser', 'kron', 'lcm', 'ldexp', 'left_shift', 'less', 'less_equal', 'lexsort', 'lib', 'linalg', 'linspace', 'little_endian', 'load', 'loads', 'loadtxt', 'log', 'log10', 'log1p', 'log2', 'logaddexp', 'logaddexp2', 'logical_and', 'logical_not', 'logical_or', 'logical_xor', 'logspace', 'longcomplex', 'longdouble', 'longfloat', 'longlong', 'lookfor', 'ma', 'mafromtxt', 'mask_indices', 'mat', 'math', 'matmul', 'matrix', 'matrixlib', 'max', 'maximum', 'maximum_sctype', 'may_share_memory', 'mean', 'median', 'memmap', 'meshgrid', 'mgrid', 'min', 'min_scalar_type', 'minimum', 'mintypecode', 'mkl', 'mod', 'modf', 'moveaxis', 'msort', 'multiply', 'nan', 'nan_to_num', 'nanargmax', 'nanargmin', 'nancumprod', 'nancumsum', 'nanmax', 'nanmean', 'nanmedian', 'nanmin', 'nanpercentile', 'nanprod', 'nanquantile', 'nanstd', 'nansum', 'nanvar', 'nbytes', 'ndarray', 'ndenumerate', 'ndfromtxt', 'ndim', 'ndindex', 'nditer', 'negative', 'nested_iters', 'newaxis', 'nextafter', 'nonzero', 'not_equal', 'numarray', 'number', 'obj2sctype', 'object0', 'object_', 'ogrid', 'oldnumeric', 'ones', 'ones_like', 'os', 'outer', 'packbits', 'pad', 'partition', 'percentile', 'pi', 'piecewise', 'place', 'poly', 'poly1d', 'polyadd', 'polyder', 'polydiv', 'polyfit', 'polyint', 'polymul', 'polynomial', 'polysub', 'polyval', 'positive', 'power', 'printoptions', 'prod', 'product', 'promote_types', 'ptp', 'put', 'put_along_axis', 'putmask', 'quantile', 'r_', 'rad2deg', 'radians', 'random', 'ravel', 'ravel_multi_index', 'real', 'real_if_close', 'rec', 'recarray', 'recfromcsv', 'recfromtxt', 'reciprocal', 'record', 'remainder', 'repeat', 'require', 'reshape', 'resize', 'result_type', 'right_shift', 'rint', 'roll', 'rollaxis', 'roots', 'rot90', 'round', 'round_', 'row_stack', 's_', 'safe_eval', 'save', 'savetxt', 'savez', 'savez_compressed', 'sctype2char', 'sctypeDict', 'sctypes', 'searchsorted', 'select', 'set_numeric_ops', 'set_printoptions', 'set_string_function', 'setbufsize', 'setdiff1d', 'seterr', 'seterrcall', 'seterrobj', 'setxor1d', 'shape', 'shares_memory', 'short', 'show_config', 'sign', 'signbit', 'signedinteger', 'sin', 'sinc', 'single', 'singlecomplex', 'sinh', 'size', 'sometrue', 'sort', 'sort_complex', 'source', 'spacing', 'split', 'sqrt', 'square', 'squeeze', 'stack', 'std', 'str0', 'str_', 'string_', 'subtract', 'sum', 'swapaxes', 'sys', 'take', 'take_along_axis', 'tan', 'tanh', 'tensordot', 'test', 'testing', 'tile', 'timedelta64', 'trace', 'tracemalloc_domain', 'transpose', 'trapz', 'tri', 'tril', 'tril_indices', 'tril_indices_from', 'trim_zeros', 'triu', 'triu_indices', 'triu_indices_from', 'true_divide', 'trunc', 'typecodes', 'typename', 'ubyte', 'ufunc', 'uint', 'uint0', 'uint16', 'uint32', 'uint64', 'uint8', 'uintc', 'uintp', 'ulonglong', 'unicode_', 'union1d', 'unique', 'unpackbits', 'unravel_index', 'unsignedinteger', 'unwrap', 'use_hugepage', 'ushort', 'vander', 'var', 'vdot', 'vectorize', 'version', 'void', 'void0', 'vsplit', 'vstack', 'warnings', 'where', 'who', 'zeros', 'zeros_like']\n"
     ]
    }
   ],
   "source": [
    "print(dir(np))"
   ]
  },
  {
   "cell_type": "code",
   "execution_count": 7,
   "id": "659dea50",
   "metadata": {},
   "outputs": [
    {
     "data": {
      "text/plain": [
       "3.1622776601683795"
      ]
     },
     "execution_count": 7,
     "metadata": {},
     "output_type": "execute_result"
    }
   ],
   "source": [
    "np.sqrt(10)"
   ]
  },
  {
   "cell_type": "code",
   "execution_count": 8,
   "id": "8793bc4d",
   "metadata": {},
   "outputs": [
    {
     "name": "stdout",
     "output_type": "stream",
     "text": [
      "Minimum  18\n",
      "Maximum  57\n"
     ]
    }
   ],
   "source": [
    "print ('Minimum ',np.amin([25,30,57,18]))\n",
    "\n",
    "print ('Maximum ',np.amax([25,30,57,18]))"
   ]
  },
  {
   "cell_type": "code",
   "execution_count": 9,
   "id": "a875a79d",
   "metadata": {},
   "outputs": [
    {
     "data": {
      "text/plain": [
       "30.0"
      ]
     },
     "execution_count": 9,
     "metadata": {},
     "output_type": "execute_result"
    }
   ],
   "source": [
    "#round off to next number\n",
    "\n",
    "np.ceil(29.1)"
   ]
  },
  {
   "cell_type": "code",
   "execution_count": 10,
   "id": "8faeab02",
   "metadata": {},
   "outputs": [
    {
     "data": {
      "text/plain": [
       "4.0"
      ]
     },
     "execution_count": 10,
     "metadata": {},
     "output_type": "execute_result"
    }
   ],
   "source": [
    "np.ceil(np.sqrt(10))"
   ]
  },
  {
   "cell_type": "code",
   "execution_count": 11,
   "id": "3c4ca996",
   "metadata": {},
   "outputs": [
    {
     "data": {
      "text/plain": [
       "10.0"
      ]
     },
     "execution_count": 11,
     "metadata": {},
     "output_type": "execute_result"
    }
   ],
   "source": [
    "np.ceil(np.sum(np.sqrt([5,10,15])))"
   ]
  },
  {
   "cell_type": "code",
   "execution_count": null,
   "id": "fb8b31fe",
   "metadata": {},
   "outputs": [],
   "source": [
    "#Similarly there are many numpy functions "
   ]
  },
  {
   "cell_type": "code",
   "execution_count": 12,
   "id": "8fe47c27",
   "metadata": {},
   "outputs": [
    {
     "data": {
      "text/plain": [
       "array([ 5,  9, 13])"
      ]
     },
     "execution_count": 12,
     "metadata": {},
     "output_type": "execute_result"
    }
   ],
   "source": [
    "np.array([5,9,13])"
   ]
  },
  {
   "cell_type": "code",
   "execution_count": 13,
   "id": "a6716ff6",
   "metadata": {},
   "outputs": [],
   "source": [
    "xyz = np.array([5,9,13])"
   ]
  },
  {
   "cell_type": "code",
   "execution_count": 14,
   "id": "7d08cf8e",
   "metadata": {},
   "outputs": [
    {
     "data": {
      "text/plain": [
       "numpy.ndarray"
      ]
     },
     "execution_count": 14,
     "metadata": {},
     "output_type": "execute_result"
    }
   ],
   "source": [
    "type(xyz)"
   ]
  },
  {
   "cell_type": "code",
   "execution_count": 15,
   "id": "f459919f",
   "metadata": {},
   "outputs": [
    {
     "name": "stdout",
     "output_type": "stream",
     "text": [
      "[ 5  9 13]\n"
     ]
    }
   ],
   "source": [
    "print (xyz)"
   ]
  },
  {
   "cell_type": "code",
   "execution_count": 16,
   "id": "bbdd564e",
   "metadata": {},
   "outputs": [
    {
     "name": "stdout",
     "output_type": "stream",
     "text": [
      "[ 5  9 13]\n"
     ]
    }
   ],
   "source": [
    "#copy array into other\n",
    "b=np.asarray(xyz)\n",
    "print (b)"
   ]
  },
  {
   "cell_type": "code",
   "execution_count": 17,
   "id": "b4a9190c",
   "metadata": {},
   "outputs": [
    {
     "data": {
      "text/plain": [
       "array([1., 2., 3.])"
      ]
     },
     "execution_count": 17,
     "metadata": {},
     "output_type": "execute_result"
    }
   ],
   "source": [
    "#dtype conversion\n",
    "np.array([1,2,3],dtype=float)"
   ]
  },
  {
   "cell_type": "code",
   "execution_count": null,
   "id": "2409b0e0",
   "metadata": {},
   "outputs": [],
   "source": [
    "##data types"
   ]
  },
  {
   "cell_type": "code",
   "execution_count": 18,
   "id": "b342a39f",
   "metadata": {},
   "outputs": [
    {
     "name": "stdout",
     "output_type": "stream",
     "text": [
      "Type\\Class of the object: <class 'numpy.ndarray'>\n",
      "Here is the matrix\n",
      "---------------\n",
      " [[1 2 3]\n",
      " [4 5 6]\n",
      " [7 8 9]] n\\---------------\n",
      "Dimension of the matrix:  2\n",
      "Sizes of the matrix:  9\n",
      "Shape of this matrix:  (3, 3)\n",
      "Data type of this matrix:  int32\n"
     ]
    }
   ],
   "source": [
    "my_mat = [[1,2,3],[4,5,6],[7,8,9]]\n",
    "\n",
    "mat = np.array(my_mat)\n",
    "\n",
    "print(\"Type\\Class of the object:\",type(mat))\n",
    "\n",
    "print(\"Here is the matrix\\n---------------\\n\",mat,\"n\\---------------\")\n",
    "\n",
    "print(\"Dimension of the matrix: \",mat.ndim)    #ndim gives the dimension, 2 for a matix , 1 for a vector\n",
    "\n",
    "print(\"Sizes of the matrix: \",mat.size)     #size gives the total numbers of elements\n",
    "\n",
    "print(\"Shape of this matrix: \",mat.shape)   #shape gives the number of elements along each axes\n",
    "\n",
    "print(\"Data type of this matrix: \",mat.dtype)   # dtype gives the data type contained in the array"
   ]
  },
  {
   "cell_type": "code",
   "execution_count": null,
   "id": "8c47766c",
   "metadata": {},
   "outputs": [],
   "source": [
    "#### arange & linspace"
   ]
  },
  {
   "cell_type": "code",
   "execution_count": null,
   "id": "5fe70be8",
   "metadata": {},
   "outputs": [],
   "source": [
    "### Donot work with python range\n",
    "\n",
    "list(range(2,10.5,.4))           # This function is not working"
   ]
  },
  {
   "cell_type": "code",
   "execution_count": 25,
   "id": "81112584",
   "metadata": {},
   "outputs": [
    {
     "data": {
      "text/plain": [
       "array([ 2. ,  2.4,  2.8,  3.2,  3.6,  4. ,  4.4,  4.8,  5.2,  5.6,  6. ,\n",
       "        6.4,  6.8,  7.2,  7.6,  8. ,  8.4,  8.8,  9.2,  9.6, 10. , 10.4])"
      ]
     },
     "execution_count": 25,
     "metadata": {},
     "output_type": "execute_result"
    }
   ],
   "source": [
    "a = np.arange(2,10.5,.4)\n",
    "\n",
    "a"
   ]
  },
  {
   "cell_type": "code",
   "execution_count": 26,
   "id": "0b9732b4",
   "metadata": {},
   "outputs": [
    {
     "data": {
      "text/plain": [
       "array([10.4, 10. ,  9.6,  9.2,  8.8,  8.4,  8. ,  7.6,  7.2,  6.8,  6.4,\n",
       "        6. ,  5.6,  5.2,  4.8,  4.4,  4. ,  3.6,  3.2,  2.8,  2.4,  2. ])"
      ]
     },
     "execution_count": 26,
     "metadata": {},
     "output_type": "execute_result"
    }
   ],
   "source": [
    "# Reverse order\n",
    "\n",
    "a[::-1]"
   ]
  },
  {
   "cell_type": "code",
   "execution_count": 28,
   "id": "83c77ff9",
   "metadata": {},
   "outputs": [
    {
     "name": "stdout",
     "output_type": "stream",
     "text": [
      "Every 5th number from 50 in reverse order\n",
      " [50 45 40 35 30 25 20 15 10  5  0]\n"
     ]
    }
   ],
   "source": [
    "print(\"Every 5th number from 50 in reverse order\\n\",np.arange(50,-1,-5))"
   ]
  },
  {
   "cell_type": "code",
   "execution_count": 29,
   "id": "104e0cde",
   "metadata": {},
   "outputs": [
    {
     "name": "stdout",
     "output_type": "stream",
     "text": [
      "linearly spaced numbers between 10 and 40\n",
      "--------------------------------------------------\n",
      "[10.  17.5 25.  32.5 40. ]\n"
     ]
    }
   ],
   "source": [
    "print(\"linearly spaced numbers between 10 and 40\\n--------------------------------------------------\")\n",
    "\n",
    "print(np.linspace(10,40,5))"
   ]
  },
  {
   "cell_type": "code",
   "execution_count": 32,
   "id": "82759f46",
   "metadata": {},
   "outputs": [
    {
     "name": "stdout",
     "output_type": "stream",
     "text": [
      "linearly spaced numbers between 10 and 40\n",
      "--------------------------------------------------\n",
      "[10.  17.5 25.  32.5 40. ]\n",
      "\n",
      "-------------------------------------------------------\n"
     ]
    }
   ],
   "source": [
    "print(\"linearly spaced numbers between 10 and 40\\n--------------------------------------------------\")\n",
    "\n",
    "print(np.linspace(10,40,5))\n",
    "\n",
    "print(\"\\n-------------------------------------------------------\")"
   ]
  },
  {
   "cell_type": "code",
   "execution_count": null,
   "id": "08c16baf",
   "metadata": {},
   "outputs": [],
   "source": [
    "# Include end point and check space between the points\n",
    "# By default endpoint = True\n",
    "# bydefault retstep = Flase\n",
    "\n",
    "np.linspace(2.0,3.0, num=4, endpoint=Flase, retstep=True)"
   ]
  },
  {
   "cell_type": "code",
   "execution_count": 34,
   "id": "a210201c",
   "metadata": {},
   "outputs": [
    {
     "name": "stdout",
     "output_type": "stream",
     "text": [
      "(array([ 4.567867  ,  5.13151682,  5.69516663,  6.25881645,  6.82246626,\n",
      "        7.38611608,  7.94976589,  8.51341571,  9.07706553,  9.64071534,\n",
      "       10.20436516, 10.76801497, 11.33166479, 11.89531461, 12.45896442,\n",
      "       13.02261424, 13.58626405, 14.14991387, 14.71356368, 15.2772135 ,\n",
      "       15.84086332, 16.40451313, 16.96816295, 17.53181276, 18.09546258,\n",
      "       18.65911239, 19.22276221, 19.78641203, 20.35006184, 20.91371166,\n",
      "       21.47736147, 22.04101129, 22.60466111, 23.16831092, 23.73196074,\n",
      "       24.29561055, 24.85926037, 25.42291018, 25.98656   ]), 0.5636498157894737)\n"
     ]
    }
   ],
   "source": [
    "print(np.linspace(4.567867,25.98656,39, retstep=True))"
   ]
  },
  {
   "cell_type": "code",
   "execution_count": null,
   "id": "d83fb72a",
   "metadata": {},
   "outputs": [],
   "source": [
    "# MATRIX CREATION"
   ]
  },
  {
   "cell_type": "code",
   "execution_count": 35,
   "id": "68ed097e",
   "metadata": {},
   "outputs": [
    {
     "name": "stdout",
     "output_type": "stream",
     "text": [
      "Vector of zeroes\n",
      "---------------------\n",
      "[0. 0. 0. 0. 0.]\n"
     ]
    }
   ],
   "source": [
    "print(\"Vector of zeroes\\n---------------------\")\n",
    "\n",
    "print(np.zeros(5))"
   ]
  },
  {
   "cell_type": "code",
   "execution_count": 36,
   "id": "b9781feb",
   "metadata": {},
   "outputs": [
    {
     "name": "stdout",
     "output_type": "stream",
     "text": [
      "Matrix of zeroes\n",
      "---------------------\n",
      "[[0. 0. 0. 0. 0. 0.]\n",
      " [0. 0. 0. 0. 0. 0.]\n",
      " [0. 0. 0. 0. 0. 0.]\n",
      " [0. 0. 0. 0. 0. 0.]\n",
      " [0. 0. 0. 0. 0. 0.]]\n"
     ]
    }
   ],
   "source": [
    "print(\"Matrix of zeroes\\n---------------------\")\n",
    "\n",
    "print(np.zeros((5,6)))    # notice tuples"
   ]
  },
  {
   "cell_type": "code",
   "execution_count": 37,
   "id": "a7e4d0a4",
   "metadata": {},
   "outputs": [
    {
     "name": "stdout",
     "output_type": "stream",
     "text": [
      "Matrix of ones\n",
      "---------------------\n",
      "[[1. 1. 1. 1. 1. 1.]\n",
      " [1. 1. 1. 1. 1. 1.]\n",
      " [1. 1. 1. 1. 1. 1.]\n",
      " [1. 1. 1. 1. 1. 1.]\n",
      " [1. 1. 1. 1. 1. 1.]]\n"
     ]
    }
   ],
   "source": [
    "print(\"Matrix of ones\\n---------------------\")\n",
    "\n",
    "print(np.ones((5,6)))    # Notice matrix dimension specified by tuples"
   ]
  },
  {
   "cell_type": "code",
   "execution_count": 38,
   "id": "c74a6db2",
   "metadata": {},
   "outputs": [
    {
     "name": "stdout",
     "output_type": "stream",
     "text": [
      "Matrix of 5's\n",
      "---------------------\n",
      "[[5. 5. 5.]\n",
      " [5. 5. 5.]\n",
      " [5. 5. 5.]\n",
      " [5. 5. 5.]]\n"
     ]
    }
   ],
   "source": [
    "print(\"Matrix of 5's\\n---------------------\")\n",
    "\n",
    "print(5*np.ones((4,3)))  "
   ]
  },
  {
   "cell_type": "code",
   "execution_count": 39,
   "id": "76dc3e2b",
   "metadata": {},
   "outputs": [
    {
     "name": "stdout",
     "output_type": "stream",
     "text": [
      "[[ 0  1  2  3  4]\n",
      " [ 5  6  7  8  9]\n",
      " [10 11 12 13 14]\n",
      " [15 16 17 18 19]\n",
      " [20 21 22 23 24]\n",
      " [25 26 27 28 29]]\n"
     ]
    }
   ],
   "source": [
    "# Construct diagonal matrix\n",
    "\n",
    "x = np.arange(30).reshape(6,5)\n",
    "\n",
    "print (x)"
   ]
  },
  {
   "cell_type": "code",
   "execution_count": null,
   "id": "8d82c982",
   "metadata": {},
   "outputs": [],
   "source": [
    "# RANDOM NUMBER GENERATION"
   ]
  },
  {
   "cell_type": "code",
   "execution_count": 40,
   "id": "f75ab8b1",
   "metadata": {},
   "outputs": [
    {
     "name": "stdout",
     "output_type": "stream",
     "text": [
      "Random number generation (from Uniform distribution)\n",
      "[[0.89286015 0.33197981 0.82122912 0.04169663 0.10765668 0.59505206]\n",
      " [0.52981736 0.41880743 0.33540785 0.62251943 0.43814143 0.73588211]\n",
      " [0.51803641 0.5788586  0.6453551  0.99022427 0.8198582  0.41320093]\n",
      " [0.87626766 0.82375943 0.05447451 0.71863724 0.80217056 0.73640664]\n",
      " [0.70913175 0.54093685 0.12482417 0.9576473  0.4032563  0.21695116]\n",
      " [0.71727585 0.99420744 0.25561406 0.67130943 0.59900591 0.71733215]\n",
      " [0.93734953 0.35180977 0.2536341  0.40247251 0.74651072 0.72407057]\n",
      " [0.4061078  0.98937985 0.45049928 0.37380843 0.70962861 0.08245855]\n",
      " [0.39837292 0.77088097 0.76475098 0.28385938 0.18954219 0.47125096]\n",
      " [0.33480604 0.73473504 0.18910712 0.33110407 0.84422842 0.61502403]]\n"
     ]
    }
   ],
   "source": [
    "np.random.seed(6)       # Each seed number will generate similar data\n",
    "\n",
    "print(\"Random number generation (from Uniform distribution)\")\n",
    "\n",
    "print(np.random.rand(10,6))"
   ]
  },
  {
   "cell_type": "code",
   "execution_count": 41,
   "id": "20f6b9cb",
   "metadata": {},
   "outputs": [
    {
     "name": "stdout",
     "output_type": "stream",
     "text": [
      "Numbers from Normal distribution with zero mean and standard deviation 1 i.e. standard normal\n",
      "[[-0.37550472  0.39636757 -0.47144628]\n",
      " [ 2.33660781  1.50278553 -0.59545972]\n",
      " [ 0.52834106  0.9398248   0.42628539]\n",
      " [-0.75815703 -0.16236698  0.72680996]\n",
      " [ 0.44408297 -0.85682264  0.44692842]\n",
      " [-1.01464799 -2.1323234   0.17386307]\n",
      " [ 0.95120126  0.44189739  1.46901739]\n",
      " [ 1.74951635  0.35353062 -0.64333729]\n",
      " [-0.04723705 -1.44903979 -0.03618977]\n",
      " [-0.09084699  0.17629034  1.09462041]]\n"
     ]
    }
   ],
   "source": [
    "print(\"Numbers from Normal distribution with zero mean and standard deviation 1 i.e. standard normal\")\n",
    "\n",
    "print(np.random.randn(10,3))"
   ]
  },
  {
   "cell_type": "code",
   "execution_count": 42,
   "id": "75fd24d7",
   "metadata": {},
   "outputs": [
    {
     "name": "stdout",
     "output_type": "stream",
     "text": [
      "Random integer vector: [12 12 16 10  8 13 20 12  8 15]\n"
     ]
    }
   ],
   "source": [
    "print(\"Random integer vector:\",np.random.randint(5,23,10))    # randint(low, high, # of samples to be drawn)"
   ]
  },
  {
   "cell_type": "code",
   "execution_count": 43,
   "id": "d3287e34",
   "metadata": {},
   "outputs": [
    {
     "name": "stdout",
     "output_type": "stream",
     "text": [
      "\n",
      "Random integer matrix\n",
      "[[1798 1082 1636  121 2401  792  600]\n",
      " [1440 2193 2596 2798  771 1295 1150]\n",
      " [1566  698 2945 1127 2660 2146 1625]\n",
      " [1994 1864  247 2705  105 1830  815]\n",
      " [2138 1209 2734  678  714  829 1666]\n",
      " [1133 2498 1395  538 1702  476  981]]\n"
     ]
    }
   ],
   "source": [
    "print (\"\\nRandom integer matrix\")\n",
    "\n",
    "print(np.random.randint(1,3000,(6,7)))   # randint (low, high, # of samples to be drawn in a tuple to fo..)"
   ]
  },
  {
   "cell_type": "code",
   "execution_count": 44,
   "id": "561328a7",
   "metadata": {},
   "outputs": [
    {
     "name": "stdout",
     "output_type": "stream",
     "text": [
      "Your OTP is -  [7416]\n",
      "Enter OTP 5214\n",
      "Invalid OTP, Generate new otp\n",
      "Your OTP is -  [9260]\n",
      "Enter OTP 9260\n",
      "Login Success\n"
     ]
    }
   ],
   "source": [
    "# one of the real time examples of randint is\n",
    "while True:\n",
    "    otp1 = np.random.randint(1000, 10000, 1)\n",
    "    print('Your OTP is - ', otp1)\n",
    "    user_otp = int(input('Enter OTP '))\n",
    "    if otp1 ==user_otp:\n",
    "        print('Login Success')\n",
    "        break\n",
    "    else:\n",
    "        print(\"Invalid OTP, Generate new otp\")\n",
    "        continue\n",
    "        "
   ]
  },
  {
   "cell_type": "code",
   "execution_count": null,
   "id": "344c8833",
   "metadata": {},
   "outputs": [],
   "source": [
    "## Sorting"
   ]
  },
  {
   "cell_type": "code",
   "execution_count": 45,
   "id": "69d7e18a",
   "metadata": {},
   "outputs": [],
   "source": [
    "from numpy.random import randint as ri"
   ]
  },
  {
   "cell_type": "code",
   "execution_count": 47,
   "id": "3cb4cb34",
   "metadata": {},
   "outputs": [
    {
     "name": "stdout",
     "output_type": "stream",
     "text": [
      "\n",
      "5x5 Matrix of random interegrs\n",
      " -------------------------------------------------- \n",
      " [[99 55 96 67 13]\n",
      " [50 48 15 95 27]\n",
      " [65 92  3  3 86]\n",
      " [65 40 12 87 39]\n",
      " [43 17 10 22 30]]\n",
      "\n",
      "Here is the sorted matrix along each row\n",
      " -------------------------------------------------- \n",
      " [[13 55 67 96 99]\n",
      " [15 27 48 50 95]\n",
      " [ 3  3 65 86 92]\n",
      " [12 39 40 65 87]\n",
      " [10 17 22 30 43]]\n",
      "\n",
      "Here is the sorted matrix along each column\n",
      " -------------------------------------------------- \n",
      " [[43 17  3  3 13]\n",
      " [50 40 10 22 27]\n",
      " [65 48 12 67 30]\n",
      " [65 55 15 87 39]\n",
      " [99 92 96 95 86]]\n"
     ]
    }
   ],
   "source": [
    "M = ri(1,100,25).reshape(5,5)  # Matrix of random interegrs\n",
    "\n",
    "print(\"\\n5x5 Matrix of random interegrs\\n\",'-'*50,\"\\n\",M)\n",
    "\n",
    "print(\"\\nHere is the sorted matrix along each row\\n\",'-'*50,\"\\n\",np.sort(M))    #Default axis =1\n",
    "\n",
    "print(\"\\nHere is the sorted matrix along each column\\n\",'-'*50,\"\\n\",np.sort(M, axis=0))"
   ]
  },
  {
   "cell_type": "code",
   "execution_count": 48,
   "id": "96b88f6b",
   "metadata": {},
   "outputs": [
    {
     "name": "stdout",
     "output_type": "stream",
     "text": [
      "Minimum =  3 and Maximum =  99\n"
     ]
    }
   ],
   "source": [
    "print('Minimum = ',M.min(), 'and Maximum = ',M.max())"
   ]
  },
  {
   "cell_type": "code",
   "execution_count": null,
   "id": "fd728069",
   "metadata": {},
   "outputs": [],
   "source": [
    "# Numpy Condition"
   ]
  },
  {
   "cell_type": "code",
   "execution_count": null,
   "id": "96f32856",
   "metadata": {},
   "outputs": [],
   "source": []
  },
  {
   "cell_type": "code",
   "execution_count": null,
   "id": "03b03042",
   "metadata": {},
   "outputs": [],
   "source": []
  },
  {
   "cell_type": "code",
   "execution_count": null,
   "id": "2c5ab46c",
   "metadata": {},
   "outputs": [],
   "source": []
  },
  {
   "cell_type": "code",
   "execution_count": null,
   "id": "2d4a0442",
   "metadata": {},
   "outputs": [],
   "source": []
  },
  {
   "cell_type": "code",
   "execution_count": null,
   "id": "15c696bf",
   "metadata": {},
   "outputs": [],
   "source": []
  },
  {
   "cell_type": "code",
   "execution_count": null,
   "id": "3f0976f5",
   "metadata": {},
   "outputs": [],
   "source": []
  }
 ],
 "metadata": {
  "kernelspec": {
   "display_name": "Python 3 (ipykernel)",
   "language": "python",
   "name": "python3"
  },
  "language_info": {
   "codemirror_mode": {
    "name": "ipython",
    "version": 3
   },
   "file_extension": ".py",
   "mimetype": "text/x-python",
   "name": "python",
   "nbconvert_exporter": "python",
   "pygments_lexer": "ipython3",
   "version": "3.9.13"
  }
 },
 "nbformat": 4,
 "nbformat_minor": 5
}
