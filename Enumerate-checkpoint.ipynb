{
 "cells": [
  {
   "cell_type": "code",
   "execution_count": null,
   "id": "d7eeac12",
   "metadata": {},
   "outputs": [],
   "source": [
    "Enumerate"
   ]
  },
  {
   "cell_type": "code",
   "execution_count": 1,
   "id": "fd46da66",
   "metadata": {},
   "outputs": [],
   "source": [
    "students = ['Krishna', 'Shivam', 'Geeta', 'Gautam', 'Nirupam', 'Yadvendra', 'Manoj']"
   ]
  },
  {
   "cell_type": "code",
   "execution_count": 2,
   "id": "38af5457",
   "metadata": {},
   "outputs": [
    {
     "name": "stdout",
     "output_type": "stream",
     "text": [
      "(0, 'Krishna')\n",
      "(1, 'Shivam')\n",
      "(2, 'Geeta')\n",
      "(3, 'Gautam')\n",
      "(4, 'Nirupam')\n",
      "(5, 'Yadvendra')\n",
      "(6, 'Manoj')\n"
     ]
    }
   ],
   "source": [
    "for name in enumerate(students):\n",
    "    print (name)"
   ]
  },
  {
   "cell_type": "code",
   "execution_count": 7,
   "id": "a04f2e34",
   "metadata": {},
   "outputs": [
    {
     "name": "stdout",
     "output_type": "stream",
     "text": [
      "(100, 'Krishna')\n",
      "(101, 'Shivam')\n",
      "(102, 'Geeta')\n",
      "(103, 'Gautam')\n",
      "(104, 'Nirupam')\n",
      "(105, 'Yadvendra')\n",
      "(106, 'Manoj')\n"
     ]
    }
   ],
   "source": [
    "for name in enumerate(students,100):\n",
    "    print (name)"
   ]
  },
  {
   "cell_type": "code",
   "execution_count": 9,
   "id": "c98f3508",
   "metadata": {},
   "outputs": [
    {
     "name": "stdout",
     "output_type": "stream",
     "text": [
      "(50, 'Krishna')\n",
      "(51, 'Shivam')\n",
      "(52, 'Geeta')\n",
      "(53, 'Gautam')\n",
      "(54, 'Nirupam')\n",
      "(55, 'Yadvendra')\n",
      "(56, 'Manoj')\n"
     ]
    }
   ],
   "source": [
    "for name in enumerate(students,50):\n",
    "                      print (name)"
   ]
  },
  {
   "cell_type": "code",
   "execution_count": 10,
   "id": "827f132e",
   "metadata": {},
   "outputs": [
    {
     "name": "stdout",
     "output_type": "stream",
     "text": [
      "(20, 'Krishna')\n",
      "(21, 'Shivam')\n",
      "(22, 'Geeta')\n",
      "(23, 'Gautam')\n",
      "(24, 'Nirupam')\n",
      "(25, 'Yadvendra')\n",
      "(26, 'Manoj')\n"
     ]
    }
   ],
   "source": [
    "for name in enumerate(students,20):\n",
    "                      print (name)"
   ]
  },
  {
   "cell_type": "code",
   "execution_count": null,
   "id": "313872d8",
   "metadata": {},
   "outputs": [],
   "source": [
    "isme kisi bhi no ke sath serial number change kar sakte hai."
   ]
  }
 ],
 "metadata": {
  "kernelspec": {
   "display_name": "Python 3 (ipykernel)",
   "language": "python",
   "name": "python3"
  },
  "language_info": {
   "codemirror_mode": {
    "name": "ipython",
    "version": 3
   },
   "file_extension": ".py",
   "mimetype": "text/x-python",
   "name": "python",
   "nbconvert_exporter": "python",
   "pygments_lexer": "ipython3",
   "version": "3.9.12"
  }
 },
 "nbformat": 4,
 "nbformat_minor": 5
}
