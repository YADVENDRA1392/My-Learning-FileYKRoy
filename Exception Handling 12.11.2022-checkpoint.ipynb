{
 "cells": [
  {
   "cell_type": "code",
   "execution_count": null,
   "id": "d1273adc",
   "metadata": {},
   "outputs": [],
   "source": [
    "try and except blocks"
   ]
  },
  {
   "cell_type": "code",
   "execution_count": 1,
   "id": "5fe682a6",
   "metadata": {},
   "outputs": [],
   "source": [
    "mark1 = 51\n",
    "subject = 'Science'\n",
    "mark2 = 65"
   ]
  },
  {
   "cell_type": "code",
   "execution_count": 2,
   "id": "6943d715",
   "metadata": {},
   "outputs": [
    {
     "name": "stdout",
     "output_type": "stream",
     "text": [
      "Total marks =  116\n"
     ]
    }
   ],
   "source": [
    "try:\n",
    "    total = mark1 + mark2\n",
    "    \n",
    "except:\n",
    "    print('You are adding integer to string. make sure both data types are matching')\n",
    "\n",
    "else:\n",
    "    print ('Total marks = ', total)"
   ]
  },
  {
   "cell_type": "code",
   "execution_count": null,
   "id": "95ca8e50",
   "metadata": {},
   "outputs": [],
   "source": [
    "work in real times"
   ]
  },
  {
   "cell_type": "code",
   "execution_count": 2,
   "id": "29efd66f",
   "metadata": {},
   "outputs": [
    {
     "name": "stdout",
     "output_type": "stream",
     "text": [
      "Your Car Number 7318\n",
      "Name Yadvendra\n",
      "Enter Mobile Number 9089888200\n"
     ]
    }
   ],
   "source": [
    "try:\n",
    "    car_number = input('Your Car Number ')\n",
    "    name = input('Name ')\n",
    "    mobile = input('Enter Mobile Number ')\n",
    "    \n",
    "    if car_number == '':\n",
    "        raise Exception()\n",
    "    elif name == '':\n",
    "        raise Exception()\n",
    "    elif monile == '':\n",
    "        raise Exception()\n",
    "    else:\n",
    "        pass\n",
    "\n",
    "except:\n",
    "    if car_number == '':\n",
    "        print ('\\n The registration number field is required. \\n')\n",
    "               \n",
    "    if name =='':\n",
    "        print ('The customer name field is required. \\n')\n",
    "               \n",
    "    if mobile == '':\n",
    "        print ('The mobile number field is required. ')\n",
    "               \n",
    "else:\n",
    "    print ('Thanks for all the details')\n",
    "        \n",
    "               "
   ]
  },
  {
   "cell_type": "code",
   "execution_count": 3,
   "id": "f230ec78",
   "metadata": {},
   "outputs": [
    {
     "name": "stdout",
     "output_type": "stream",
     "text": [
      "Your Car Number 7318\n",
      "Name \n",
      "Enter Mobile Number 9089888200\n",
      "The customer name field is required. \n",
      "\n",
      "In any case finally block will be execute\n"
     ]
    }
   ],
   "source": [
    "try:\n",
    "    car_number = input('Your Car Number ')\n",
    "    name = input('Name ')\n",
    "    mobile = input('Enter Mobile Number ')\n",
    "    \n",
    "    if car_number == '':\n",
    "        raise Exception()\n",
    "    elif name == '':\n",
    "        raise Exception()\n",
    "    elif monile == '':\n",
    "        raise Exception()\n",
    "    else:\n",
    "        pass\n",
    "\n",
    "except:\n",
    "    if car_number == '':\n",
    "        print ('\\n The registration number field is required. \\n')\n",
    "               \n",
    "    if name =='':\n",
    "        print ('The customer name field is required. \\n')\n",
    "               \n",
    "    if mobile == '':\n",
    "        print ('The mobile number field is required. ')\n",
    "               \n",
    "finally:\n",
    "    print ('In any case finally block will be execute')\n",
    "    "
   ]
  },
  {
   "cell_type": "code",
   "execution_count": 4,
   "id": "a4bec739",
   "metadata": {},
   "outputs": [
    {
     "name": "stdout",
     "output_type": "stream",
     "text": [
      "Your Car Number 7318\n",
      "Name y k roy\n",
      "Enter Mobile Number 888200\n",
      "In any case finally block will be execute\n"
     ]
    }
   ],
   "source": [
    "try:\n",
    "    car_number = input('Your Car Number ')\n",
    "    name = input('Name ')\n",
    "    mobile = input('Enter Mobile Number ')\n",
    "    \n",
    "    if car_number == '':\n",
    "        raise Exception()\n",
    "    elif name == '':\n",
    "        raise Exception()\n",
    "    elif monile == '':\n",
    "        raise Exception()\n",
    "    else:\n",
    "        pass\n",
    "\n",
    "except:\n",
    "    if car_number == '':\n",
    "        print ('\\n The registration number field is required. \\n')\n",
    "               \n",
    "    if name =='':\n",
    "        print ('The customer name field is required. \\n')\n",
    "               \n",
    "    if mobile == '':\n",
    "        print ('The mobile number field is required. ')\n",
    "               \n",
    "finally:\n",
    "    print ('In any case finally block will be execute')"
   ]
  },
  {
   "cell_type": "code",
   "execution_count": null,
   "id": "96a856d4",
   "metadata": {},
   "outputs": [],
   "source": [
    "finally blocks every time show if you are 100 right also"
   ]
  },
  {
   "cell_type": "code",
   "execution_count": 5,
   "id": "e4aae603",
   "metadata": {},
   "outputs": [],
   "source": [
    "def mobile_num():\n",
    "        try:\n",
    "            val = int(input(\"Please enter your phone number: \"))\n",
    "        except:\n",
    "            print (\"Look like you did not enter an integer!\")\n",
    "        \n",
    "        print(val)\n",
    "        "
   ]
  },
  {
   "cell_type": "code",
   "execution_count": 7,
   "id": "fc172178",
   "metadata": {},
   "outputs": [
    {
     "name": "stdout",
     "output_type": "stream",
     "text": [
      "Please enter your phone number: 9089888200\n",
      "9089888200\n"
     ]
    }
   ],
   "source": [
    "mobile_num()"
   ]
  },
  {
   "cell_type": "code",
   "execution_count": 3,
   "id": "cda4d2be",
   "metadata": {},
   "outputs": [],
   "source": [
    "val = 9089888200"
   ]
  },
  {
   "cell_type": "code",
   "execution_count": 4,
   "id": "3ed347c8",
   "metadata": {},
   "outputs": [
    {
     "ename": "TypeError",
     "evalue": "object of type 'int' has no len()",
     "output_type": "error",
     "traceback": [
      "\u001b[1;31m---------------------------------------------------------------------------\u001b[0m",
      "\u001b[1;31mTypeError\u001b[0m                                 Traceback (most recent call last)",
      "Input \u001b[1;32mIn [4]\u001b[0m, in \u001b[0;36m<cell line: 1>\u001b[1;34m()\u001b[0m\n\u001b[1;32m----> 1\u001b[0m \u001b[38;5;28;43mlen\u001b[39;49m\u001b[43m(\u001b[49m\u001b[43mval\u001b[49m\u001b[43m)\u001b[49m\n",
      "\u001b[1;31mTypeError\u001b[0m: object of type 'int' has no len()"
     ]
    }
   ],
   "source": [
    "len(val)"
   ]
  },
  {
   "cell_type": "code",
   "execution_count": 5,
   "id": "40bf295b",
   "metadata": {},
   "outputs": [
    {
     "data": {
      "text/plain": [
       "10"
      ]
     },
     "execution_count": 5,
     "metadata": {},
     "output_type": "execute_result"
    }
   ],
   "source": [
    "len(str(val))"
   ]
  },
  {
   "cell_type": "code",
   "execution_count": 12,
   "id": "185e3fe7",
   "metadata": {},
   "outputs": [],
   "source": [
    "def mobile_num():\n",
    "    \n",
    "    while True:\n",
    "        try:\n",
    "            val = int(input(\"Please enter mobile number: \"))\n",
    "        \n",
    "            if len(str(val)) != 10:\n",
    "                print ('Mobile number must be 10 digits')\n",
    "                continue\n",
    "            else:\n",
    "                print('Thank you')\n",
    "                break\n",
    "            \n",
    "        except:\n",
    "            print(\"Looks like you did not enter an integer!\")\n",
    "            continue\n",
    "            "
   ]
  },
  {
   "cell_type": "code",
   "execution_count": 13,
   "id": "1cf781cc",
   "metadata": {},
   "outputs": [
    {
     "name": "stdout",
     "output_type": "stream",
     "text": [
      "Please enter mobile number: Yadvendra\n",
      "Looks like you did not enter an integer!\n",
      "Please enter mobile number: 908988820\n",
      "Mobile number must be 10 digits\n",
      "Please enter mobile number: 9089888200\n",
      "Thank you\n"
     ]
    }
   ],
   "source": [
    "mobile_num()"
   ]
  },
  {
   "cell_type": "code",
   "execution_count": null,
   "id": "6866d340",
   "metadata": {},
   "outputs": [],
   "source": []
  }
 ],
 "metadata": {
  "kernelspec": {
   "display_name": "Python 3 (ipykernel)",
   "language": "python",
   "name": "python3"
  },
  "language_info": {
   "codemirror_mode": {
    "name": "ipython",
    "version": 3
   },
   "file_extension": ".py",
   "mimetype": "text/x-python",
   "name": "python",
   "nbconvert_exporter": "python",
   "pygments_lexer": "ipython3",
   "version": "3.9.12"
  }
 },
 "nbformat": 4,
 "nbformat_minor": 5
}
