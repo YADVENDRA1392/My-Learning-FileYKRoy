{
 "cells": [
  {
   "cell_type": "code",
   "execution_count": 1,
   "id": "724dbdcf",
   "metadata": {},
   "outputs": [],
   "source": [
    "import sqlite3\n",
    "\n",
    "db = sqlite3.connect(\"student_database.db\")"
   ]
  },
  {
   "cell_type": "code",
   "execution_count": 2,
   "id": "e1cbdcbc",
   "metadata": {},
   "outputs": [],
   "source": [
    "cursor = db.cursor()"
   ]
  },
  {
   "cell_type": "code",
   "execution_count": 3,
   "id": "f778df11",
   "metadata": {},
   "outputs": [
    {
     "ename": "OperationalError",
     "evalue": "table student_data already exists",
     "output_type": "error",
     "traceback": [
      "\u001b[1;31m---------------------------------------------------------------------------\u001b[0m",
      "\u001b[1;31mOperationalError\u001b[0m                          Traceback (most recent call last)",
      "Input \u001b[1;32mIn [3]\u001b[0m, in \u001b[0;36m<cell line: 1>\u001b[1;34m()\u001b[0m\n\u001b[1;32m----> 1\u001b[0m \u001b[43mcursor\u001b[49m\u001b[38;5;241;43m.\u001b[39;49m\u001b[43mexecute\u001b[49m\u001b[43m(\u001b[49m\u001b[38;5;124;43m\"\u001b[39;49m\u001b[38;5;124;43mCREATE TABLE student_data(phone_number INT PRIMARY KEY, email_id TEXT, course_namr TEXT, fee_paid INT)\u001b[39;49m\u001b[38;5;124;43m\"\u001b[39;49m\u001b[43m)\u001b[49m\n",
      "\u001b[1;31mOperationalError\u001b[0m: table student_data already exists"
     ]
    }
   ],
   "source": [
    "cursor.execute(\"CREATE TABLE student_data(phone_number INT PRIMARY KEY, email_id TEXT, course_namr TEXT, fee_paid INT)\")"
   ]
  },
  {
   "cell_type": "code",
   "execution_count": 4,
   "id": "0156e536",
   "metadata": {},
   "outputs": [
    {
     "name": "stdout",
     "output_type": "stream",
     "text": [
      "1  Record(s) inserted\n"
     ]
    }
   ],
   "source": [
    "cursor.execute(\"INSERT INTO student_data(phone_number, email_id, course_name, fee_paid) VALUES (9089888200, 'yadvendrakr.roy55@yahoo.in', 'Data Science', 30000 )\")\n",
    "\n",
    "db.commit()\n",
    "\n",
    "print (cursor.rowcount,\" Record(s) inserted\")"
   ]
  },
  {
   "cell_type": "code",
   "execution_count": null,
   "id": "66332fc8",
   "metadata": {},
   "outputs": [],
   "source": [
    "SELECT query - How to fetch records from the table"
   ]
  },
  {
   "cell_type": "code",
   "execution_count": 6,
   "id": "796e6d8f",
   "metadata": {},
   "outputs": [
    {
     "name": "stdout",
     "output_type": "stream",
     "text": [
      "(9089888200, 'yadvendrakr.roy55@yahoo.in', 'Data Science', 30000)\n"
     ]
    }
   ],
   "source": [
    "results = cursor.execute(\"SELECT * FROM student_data\")\n",
    "for row in results:\n",
    "    print(row)"
   ]
  },
  {
   "cell_type": "code",
   "execution_count": null,
   "id": "677de7ba",
   "metadata": {},
   "outputs": [],
   "source": [
    "Multiple records insertion"
   ]
  },
  {
   "cell_type": "code",
   "execution_count": 9,
   "id": "32f27976",
   "metadata": {},
   "outputs": [
    {
     "name": "stdout",
     "output_type": "stream",
     "text": [
      "2  Record(s) inserted\n"
     ]
    }
   ],
   "source": [
    "cursor.execute(\"INSERT INTO student_data VALUES (9089888201, 'yadvendrakr.roy56@yahoo.in','Data Science',25000),(9089888202,'yadvendrakr.roy57@yahoo.in','Data Science',20000)\")\n",
    "\n",
    "db.commit()\n",
    "\n",
    "print (cursor.rowcount,\" Record(s) inserted\")"
   ]
  },
  {
   "cell_type": "code",
   "execution_count": 10,
   "id": "a024f0dc",
   "metadata": {},
   "outputs": [
    {
     "name": "stdout",
     "output_type": "stream",
     "text": [
      "2  Record(s) inserted\n"
     ]
    }
   ],
   "source": [
    "cursor.execute(\"INSERT INTO student_data VALUES (9089888203, 'yadvendrakr.roy58@yahoo.in','Data Science',25000),(9089888204,'yadvendrakr.roy59@yahoo.in','Data Science',20000)\")\n",
    "\n",
    "db.commit()\n",
    "\n",
    "print (cursor.rowcount,\" Record(s) inserted\")"
   ]
  },
  {
   "cell_type": "code",
   "execution_count": 11,
   "id": "fc0454d0",
   "metadata": {},
   "outputs": [
    {
     "name": "stdout",
     "output_type": "stream",
     "text": [
      "(9089888200, 'yadvendrakr.roy55@yahoo.in', 'Data Science', 30000)\n",
      "(9089888201, 'yadvendrakr.roy56@yahoo.in', 'Data Science', 25000)\n",
      "(9089888202, 'yadvendrakr.roy57@yahoo.in', 'Data Science', 20000)\n",
      "(9089888203, 'yadvendrakr.roy58@yahoo.in', 'Data Science', 25000)\n",
      "(9089888204, 'yadvendrakr.roy59@yahoo.in', 'Data Science', 20000)\n"
     ]
    }
   ],
   "source": [
    "results = cursor.execute(\"SELECT * FROM student_data\")\n",
    "for row in results:\n",
    "    print(row)"
   ]
  },
  {
   "cell_type": "code",
   "execution_count": null,
   "id": "4d653f64",
   "metadata": {},
   "outputs": [],
   "source": [
    "How to load data from file into table"
   ]
  },
  {
   "cell_type": "code",
   "execution_count": 32,
   "id": "02263f2e",
   "metadata": {},
   "outputs": [
    {
     "ename": "FileNotFoundError",
     "evalue": "[Errno 2] No such file or directory: 'C:\\\\DT_Students.csv'",
     "output_type": "error",
     "traceback": [
      "\u001b[1;31m---------------------------------------------------------------------------\u001b[0m",
      "\u001b[1;31mFileNotFoundError\u001b[0m                         Traceback (most recent call last)",
      "Input \u001b[1;32mIn [32]\u001b[0m, in \u001b[0;36m<cell line: 1>\u001b[1;34m()\u001b[0m\n\u001b[1;32m----> 1\u001b[0m \u001b[38;5;28;01mwith\u001b[39;00m \u001b[38;5;28;43mopen\u001b[39;49m\u001b[43m(\u001b[49m\u001b[38;5;124;43m'\u001b[39;49m\u001b[38;5;124;43mC:\u001b[39;49m\u001b[38;5;124;43m\\\u001b[39;49m\u001b[38;5;124;43mDT_Students.csv\u001b[39;49m\u001b[38;5;124;43m'\u001b[39;49m\u001b[43m,\u001b[49m\u001b[38;5;124;43m'\u001b[39;49m\u001b[38;5;124;43mr\u001b[39;49m\u001b[38;5;124;43m'\u001b[39;49m\u001b[43m)\u001b[49m \u001b[38;5;28;01mas\u001b[39;00m file:\n\u001b[0;32m      2\u001b[0m     no_records \u001b[38;5;241m=\u001b[39m \u001b[38;5;241m0\u001b[39m\n\u001b[0;32m      3\u001b[0m     \u001b[38;5;28;01mfor\u001b[39;00m row \u001b[38;5;129;01min\u001b[39;00m file:\n",
      "\u001b[1;31mFileNotFoundError\u001b[0m: [Errno 2] No such file or directory: 'C:\\\\DT_Students.csv'"
     ]
    }
   ],
   "source": [
    "with open('DT_Students.csv','r') as file:\n",
    "    no_records = 0\n",
    "    for row in file:\n",
    "        cursor.execute(\"INSERT INTO student_data VALUE (?,?,?,?)\",row.split(\",\"))\n",
    "        db.commit()\n",
    "        no_records +=1\n",
    "        \n",
    "print (no_records, 'Records Inserted')"
   ]
  },
  {
   "cell_type": "code",
   "execution_count": null,
   "id": "90f8d112",
   "metadata": {},
   "outputs": [],
   "source": []
  }
 ],
 "metadata": {
  "kernelspec": {
   "display_name": "Python 3 (ipykernel)",
   "language": "python",
   "name": "python3"
  },
  "language_info": {
   "codemirror_mode": {
    "name": "ipython",
    "version": 3
   },
   "file_extension": ".py",
   "mimetype": "text/x-python",
   "name": "python",
   "nbconvert_exporter": "python",
   "pygments_lexer": "ipython3",
   "version": "3.9.12"
  }
 },
 "nbformat": 4,
 "nbformat_minor": 5
}
