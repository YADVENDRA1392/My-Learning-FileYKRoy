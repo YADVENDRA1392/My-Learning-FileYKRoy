{
 "cells": [
  {
   "cell_type": "code",
   "execution_count": null,
   "id": "ca7348d3",
   "metadata": {},
   "outputs": [],
   "source": [
    "Integers (int)"
   ]
  },
  {
   "cell_type": "code",
   "execution_count": 2,
   "id": "d67e9177",
   "metadata": {},
   "outputs": [
    {
     "name": "stdout",
     "output_type": "stream",
     "text": [
      "30\n"
     ]
    }
   ],
   "source": [
    "a=10\n",
    "b=20\n",
    "c=a+b\n",
    "print (c)"
   ]
  },
  {
   "cell_type": "code",
   "execution_count": 3,
   "id": "5d12e2a9",
   "metadata": {},
   "outputs": [
    {
     "name": "stdout",
     "output_type": "stream",
     "text": [
      "300\n"
     ]
    }
   ],
   "source": [
    "print(c*10)"
   ]
  },
  {
   "cell_type": "code",
   "execution_count": null,
   "id": "ad971217",
   "metadata": {},
   "outputs": [],
   "source": [
    "string"
   ]
  },
  {
   "cell_type": "code",
   "execution_count": 4,
   "id": "118a6bd0",
   "metadata": {},
   "outputs": [
    {
     "name": "stdout",
     "output_type": "stream",
     "text": [
      "Hello World\n"
     ]
    }
   ],
   "source": [
    "''\n",
    "\"\"\n",
    "''''''\n",
    "print ('Hello World')"
   ]
  },
  {
   "cell_type": "code",
   "execution_count": 8,
   "id": "79628caf",
   "metadata": {},
   "outputs": [
    {
     "name": "stdout",
     "output_type": "stream",
     "text": [
      "python is a powerful  language\n"
     ]
    }
   ],
   "source": [
    "first_string=\"python \"\n",
    "second_string='is a powerful '\n",
    "third_string=' language'\n",
    "print(first_string + second_string + third_string)"
   ]
  },
  {
   "cell_type": "code",
   "execution_count": 10,
   "id": "46970db7",
   "metadata": {},
   "outputs": [
    {
     "name": "stdout",
     "output_type": "stream",
     "text": [
      "Woww python is easy\n"
     ]
    }
   ],
   "source": [
    "print('Woww ' + 'python is ' + 'easy')"
   ]
  },
  {
   "cell_type": "code",
   "execution_count": 16,
   "id": "32815d5d",
   "metadata": {},
   "outputs": [
    {
     "name": "stdout",
     "output_type": "stream",
     "text": [
      "Python is a powerful course\n"
     ]
    }
   ],
   "source": [
    "total_string = first_string + second_string + third_string\n",
    "print (total_string)"
   ]
  },
  {
   "cell_type": "code",
   "execution_count": null,
   "id": "76c92ef2",
   "metadata": {
    "collapsed": true
   },
   "outputs": [],
   "source": [
    "other operation on strings"
   ]
  },
  {
   "cell_type": "code",
   "execution_count": 19,
   "id": "6b11fcdd",
   "metadata": {},
   "outputs": [
    {
     "name": "stdout",
     "output_type": "stream",
     "text": [
      "Day Day Day Day Day \n"
     ]
    }
   ],
   "source": [
    "print('Day '*5)"
   ]
  },
  {
   "cell_type": "code",
   "execution_count": 21,
   "id": "500a6868",
   "metadata": {},
   "outputs": [
    {
     "name": "stdout",
     "output_type": "stream",
     "text": [
      "********************\n",
      "HELLO FRIENDS\n",
      "********************\n"
     ]
    }
   ],
   "source": [
    "print ('*'*20)\n",
    "print ('HELLO FRIENDS')\n",
    "print ('*'*20)"
   ]
  },
  {
   "cell_type": "code",
   "execution_count": 23,
   "id": "c01161ae",
   "metadata": {},
   "outputs": [
    {
     "name": "stdout",
     "output_type": "stream",
     "text": [
      "Day2\n"
     ]
    }
   ],
   "source": [
    "print ('Day' + str(2))"
   ]
  },
  {
   "cell_type": "code",
   "execution_count": null,
   "id": "e417394a",
   "metadata": {},
   "outputs": [],
   "source": []
  }
 ],
 "metadata": {
  "kernelspec": {
   "display_name": "Python 3 (ipykernel)",
   "language": "python",
   "name": "python3"
  },
  "language_info": {
   "codemirror_mode": {
    "name": "ipython",
    "version": 3
   },
   "file_extension": ".py",
   "mimetype": "text/x-python",
   "name": "python",
   "nbconvert_exporter": "python",
   "pygments_lexer": "ipython3",
   "version": "3.9.12"
  }
 },
 "nbformat": 4,
 "nbformat_minor": 5
}
