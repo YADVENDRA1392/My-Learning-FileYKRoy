{
 "cells": [
  {
   "cell_type": "code",
   "execution_count": 1,
   "id": "dab9d883",
   "metadata": {},
   "outputs": [],
   "source": [
    "location=['Bengaluru','Delhi','Hariyana','Bihar','Punjab']"
   ]
  },
  {
   "cell_type": "code",
   "execution_count": 2,
   "id": "fc7cd6c6",
   "metadata": {},
   "outputs": [
    {
     "name": "stdout",
     "output_type": "stream",
     "text": [
      "['Bengaluru', 'Delhi', 'Hariyana', 'Bihar', 'Punjab']\n"
     ]
    }
   ],
   "source": [
    "print (location)"
   ]
  },
  {
   "cell_type": "code",
   "execution_count": 28,
   "id": "a4631e0d",
   "metadata": {},
   "outputs": [
    {
     "name": "stdout",
     "output_type": "stream",
     "text": [
      "Bengaluru\n",
      "Delhi\n",
      "Hariyana\n",
      "Bihar\n",
      "Punjab\n"
     ]
    }
   ],
   "source": [
    "for city in location:\n",
    "    print (city)"
   ]
  },
  {
   "cell_type": "code",
   "execution_count": null,
   "id": "8de60ec2",
   "metadata": {},
   "outputs": [],
   "source": [
    "Loops means again go back again go back"
   ]
  },
  {
   "cell_type": "code",
   "execution_count": 23,
   "id": "f18c73a8",
   "metadata": {},
   "outputs": [],
   "source": [
    "salary=[2000,4000,5000,7000,8000,4500,3800]"
   ]
  },
  {
   "cell_type": "code",
   "execution_count": 29,
   "id": "3cbb2231",
   "metadata": {},
   "outputs": [
    {
     "name": "stdout",
     "output_type": "stream",
     "text": [
      "7000\n",
      "8000\n"
     ]
    }
   ],
   "source": [
    "for val in salary:\n",
    "    if val > 5500 :\n",
    "        print (val)"
   ]
  },
  {
   "cell_type": "code",
   "execution_count": null,
   "id": "14aee9a8",
   "metadata": {},
   "outputs": [],
   "source": [
    "While Loop"
   ]
  },
  {
   "cell_type": "code",
   "execution_count": 37,
   "id": "691fd0f8",
   "metadata": {},
   "outputs": [
    {
     "name": "stdout",
     "output_type": "stream",
     "text": [
      "36 - Pass\n",
      "67 - First Class\n",
      "78 - Destinction\n",
      "79 - Destinction\n",
      "12 - Fail - Better luck in next time\n",
      "34 - Fail - Better luck in next time\n",
      "67 - First Class\n",
      "54 - Second Class\n",
      "89 - Destinction\n"
     ]
    }
   ],
   "source": [
    "student_scores = [36,67,78,79,12,34,67,54,89]\n",
    "\n",
    "for marks in student_scores:\n",
    "    if marks > 60:\n",
    "        if marks > 70:\n",
    "            print ( marks,'- Destinction')\n",
    "        else:\n",
    "            print (marks, '- First Class')\n",
    "    \n",
    "    elif marks > 50 and marks <= 60:\n",
    "        print (marks,'- Second Class')\n",
    "    \n",
    "    elif marks >= 35:\n",
    "        print (marks, '- Pass')\n",
    "    \n",
    "    else :\n",
    "        print (marks, '- Fail - Better luck in next time')"
   ]
  },
  {
   "cell_type": "code",
   "execution_count": null,
   "id": "8da2208a",
   "metadata": {},
   "outputs": [],
   "source": [
    "List comprehension"
   ]
  },
  {
   "cell_type": "code",
   "execution_count": 1,
   "id": "6c716f35",
   "metadata": {},
   "outputs": [],
   "source": [
    "salary = [2000,4000,5000,7000,8000,1500,3800]"
   ]
  },
  {
   "cell_type": "code",
   "execution_count": 2,
   "id": "c2e3d382",
   "metadata": {},
   "outputs": [],
   "source": [
    "sal = [val for val in salary if val > 5500]"
   ]
  },
  {
   "cell_type": "code",
   "execution_count": 3,
   "id": "89021e29",
   "metadata": {},
   "outputs": [
    {
     "data": {
      "text/plain": [
       "[7000, 8000]"
      ]
     },
     "execution_count": 3,
     "metadata": {},
     "output_type": "execute_result"
    }
   ],
   "source": [
    "sal"
   ]
  },
  {
   "cell_type": "code",
   "execution_count": 11,
   "id": "9351c4db",
   "metadata": {},
   "outputs": [
    {
     "name": "stdout",
     "output_type": "stream",
     "text": [
      "Multification table for -  2\n",
      "2\n",
      "4\n",
      "6\n",
      "8\n",
      "10\n",
      "12\n",
      "14\n",
      "16\n",
      "18\n",
      "20\n",
      "\n",
      "\n",
      "Multification table for -  3\n",
      "3\n",
      "6\n",
      "9\n",
      "12\n",
      "15\n",
      "18\n",
      "21\n",
      "24\n",
      "27\n",
      "30\n",
      "\n",
      "\n",
      "Multification table for -  4\n",
      "4\n",
      "8\n",
      "12\n",
      "16\n",
      "20\n",
      "24\n",
      "28\n",
      "32\n",
      "36\n",
      "40\n",
      "\n",
      "\n",
      "******************************\n",
      "End of multiplication table\n",
      "******************************\n"
     ]
    }
   ],
   "source": [
    "for num in range (2,5) :\n",
    "    print ('Multification table for - ', num)\n",
    "    for i in range(1,11):\n",
    "        print (num * i)\n",
    "        if i == 10:\n",
    "            print ('\\n')\n",
    "\n",
    "else:\n",
    "    print ('*' * 30)\n",
    "    print ('End of multiplication table')\n",
    "    print ('*' * 30)"
   ]
  },
  {
   "cell_type": "code",
   "execution_count": null,
   "id": "b7357e5d",
   "metadata": {},
   "outputs": [],
   "source": [
    "While loop"
   ]
  },
  {
   "cell_type": "code",
   "execution_count": 16,
   "id": "ae512e32",
   "metadata": {},
   "outputs": [
    {
     "name": "stdout",
     "output_type": "stream",
     "text": [
      "1 Data Trained\n",
      "2 Data Trained\n",
      "3 Data Trained\n",
      "4 Data Trained\n",
      "5 Data Trained\n",
      "6 Data Trained\n",
      "7 Data Trained\n",
      "8 Data Trained\n",
      "9 Data Trained\n",
      "10 Data Trained\n"
     ]
    }
   ],
   "source": [
    "i = 0\n",
    "\n",
    "while i < 10:\n",
    "    i = i + 1\n",
    "    print (i, 'Data Trained')"
   ]
  },
  {
   "cell_type": "code",
   "execution_count": 17,
   "id": "fb9d9827",
   "metadata": {},
   "outputs": [
    {
     "name": "stdout",
     "output_type": "stream",
     "text": [
      "1 Data Trained\n",
      "2 Data Trained\n",
      "3 Data Trained\n",
      "4 Data Trained\n",
      "5 Data Trained\n",
      "6 Data Trained\n",
      "7 Data Trained\n",
      "8 Data Trained\n",
      "9 Data Trained\n",
      "10 Data Trained\n",
      "11 Data Trained\n",
      "12 Data Trained\n",
      "13 Data Trained\n",
      "14 Data Trained\n",
      "15 Data Trained\n",
      "16 Data Trained\n",
      "17 Data Trained\n",
      "18 Data Trained\n",
      "19 Data Trained\n",
      "20 Data Trained\n",
      "21 Data Trained\n",
      "22 Data Trained\n",
      "23 Data Trained\n",
      "24 Data Trained\n",
      "25 Data Trained\n",
      "26 Data Trained\n",
      "27 Data Trained\n",
      "28 Data Trained\n",
      "29 Data Trained\n",
      "30 Data Trained\n",
      "31 Data Trained\n",
      "32 Data Trained\n",
      "33 Data Trained\n",
      "34 Data Trained\n",
      "35 Data Trained\n",
      "36 Data Trained\n",
      "37 Data Trained\n",
      "38 Data Trained\n",
      "39 Data Trained\n",
      "40 Data Trained\n",
      "41 Data Trained\n",
      "42 Data Trained\n",
      "43 Data Trained\n",
      "44 Data Trained\n",
      "45 Data Trained\n",
      "46 Data Trained\n",
      "47 Data Trained\n",
      "48 Data Trained\n",
      "49 Data Trained\n",
      "50 Data Trained\n",
      "51 Data Trained\n",
      "52 Data Trained\n",
      "53 Data Trained\n",
      "54 Data Trained\n",
      "55 Data Trained\n",
      "56 Data Trained\n",
      "57 Data Trained\n",
      "58 Data Trained\n",
      "59 Data Trained\n",
      "60 Data Trained\n",
      "61 Data Trained\n",
      "62 Data Trained\n",
      "63 Data Trained\n",
      "64 Data Trained\n",
      "65 Data Trained\n",
      "66 Data Trained\n",
      "67 Data Trained\n",
      "68 Data Trained\n",
      "69 Data Trained\n",
      "70 Data Trained\n",
      "71 Data Trained\n",
      "72 Data Trained\n",
      "73 Data Trained\n",
      "74 Data Trained\n",
      "75 Data Trained\n",
      "76 Data Trained\n",
      "77 Data Trained\n",
      "78 Data Trained\n",
      "79 Data Trained\n",
      "80 Data Trained\n",
      "81 Data Trained\n",
      "82 Data Trained\n",
      "83 Data Trained\n",
      "84 Data Trained\n",
      "85 Data Trained\n",
      "86 Data Trained\n",
      "87 Data Trained\n",
      "88 Data Trained\n",
      "89 Data Trained\n",
      "90 Data Trained\n",
      "91 Data Trained\n",
      "92 Data Trained\n",
      "93 Data Trained\n",
      "94 Data Trained\n",
      "95 Data Trained\n",
      "96 Data Trained\n",
      "97 Data Trained\n",
      "98 Data Trained\n",
      "99 Data Trained\n",
      "100 Data Trained\n",
      "101 Data Trained\n"
     ]
    }
   ],
   "source": [
    "i = 0\n",
    "\n",
    "while i < 101:\n",
    "    i = i + 1\n",
    "    print (i, 'Data Trained')"
   ]
  },
  {
   "cell_type": "code",
   "execution_count": 18,
   "id": "4275e810",
   "metadata": {},
   "outputs": [
    {
     "name": "stdout",
     "output_type": "stream",
     "text": [
      "time.struct_time(tm_year=2022, tm_mon=11, tm_mday=9, tm_hour=0, tm_min=24, tm_sec=1, tm_wday=2, tm_yday=313, tm_isdst=0)\n"
     ]
    }
   ],
   "source": [
    "import time\n",
    "result = time.localtime()\n",
    "print (result)"
   ]
  },
  {
   "cell_type": "code",
   "execution_count": 21,
   "id": "f08b4b9d",
   "metadata": {},
   "outputs": [
    {
     "name": "stdout",
     "output_type": "stream",
     "text": [
      "Wake Up call\n"
     ]
    }
   ],
   "source": [
    "while True:\n",
    "    result = time.localtime()\n",
    "    if result.tm_hour == 0 and result.tm_min== 32:\n",
    "        print ('Wake Up call')\n",
    "        break"
   ]
  },
  {
   "cell_type": "code",
   "execution_count": 22,
   "id": "be4f017f",
   "metadata": {},
   "outputs": [
    {
     "name": "stdout",
     "output_type": "stream",
     "text": [
      "Wake Up call\n"
     ]
    }
   ],
   "source": [
    "while True:\n",
    "    result = time.localtime()\n",
    "    if result.tm_hour == 0 and result.tm_min== 40:\n",
    "        print ('Wake Up call')\n",
    "        break"
   ]
  },
  {
   "cell_type": "code",
   "execution_count": 24,
   "id": "2a9b53a3",
   "metadata": {},
   "outputs": [
    {
     "name": "stdout",
     "output_type": "stream",
     "text": [
      "Wake Up call\n"
     ]
    }
   ],
   "source": [
    "while True:\n",
    "    result = time.localtime()\n",
    "    if result.tm_hour == 0 and result.tm_min== 41:\n",
    "        print ('Wake Up call')\n",
    "        break"
   ]
  },
  {
   "cell_type": "code",
   "execution_count": null,
   "id": "cdeaef65",
   "metadata": {},
   "outputs": [],
   "source": []
  }
 ],
 "metadata": {
  "kernelspec": {
   "display_name": "Python 3 (ipykernel)",
   "language": "python",
   "name": "python3"
  },
  "language_info": {
   "codemirror_mode": {
    "name": "ipython",
    "version": 3
   },
   "file_extension": ".py",
   "mimetype": "text/x-python",
   "name": "python",
   "nbconvert_exporter": "python",
   "pygments_lexer": "ipython3",
   "version": "3.9.12"
  }
 },
 "nbformat": 4,
 "nbformat_minor": 5
}
