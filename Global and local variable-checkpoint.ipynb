{
 "cells": [
  {
   "cell_type": "code",
   "execution_count": 1,
   "id": "bc772b3d",
   "metadata": {},
   "outputs": [
    {
     "name": "stdout",
     "output_type": "stream",
     "text": [
      "printing inside the function and total is  45\n"
     ]
    }
   ],
   "source": [
    "extra_marks = 10\n",
    "\n",
    "def tot_score_glob():\n",
    "    print(\"printing inside the function and total is \", 35 + extra_marks)\n",
    "    \n",
    "tot_score_glob()"
   ]
  },
  {
   "cell_type": "code",
   "execution_count": 3,
   "id": "e855042b",
   "metadata": {},
   "outputs": [
    {
     "name": "stdout",
     "output_type": "stream",
     "text": [
      "printing inside the function and total is  100\n"
     ]
    }
   ],
   "source": [
    "def tot_score_loc():\n",
    "    some_marks = 50\n",
    "    print(\"printing inside the function and total is \", 50 + some_marks)\n",
    "\n",
    "tot_score_loc()"
   ]
  },
  {
   "cell_type": "code",
   "execution_count": 9,
   "id": "2ac24e98",
   "metadata": {},
   "outputs": [
    {
     "name": "stdout",
     "output_type": "stream",
     "text": [
      "This is fantastic\n"
     ]
    }
   ],
   "source": [
    "def local_global():\n",
    "    global var12\n",
    "    var12 = \"This is fantastic\"\n",
    "    print(var12)\n",
    "    \n",
    "\n",
    "local_global()"
   ]
  },
  {
   "cell_type": "code",
   "execution_count": null,
   "id": "44c1e047",
   "metadata": {},
   "outputs": [],
   "source": []
  }
 ],
 "metadata": {
  "kernelspec": {
   "display_name": "Python 3 (ipykernel)",
   "language": "python",
   "name": "python3"
  },
  "language_info": {
   "codemirror_mode": {
    "name": "ipython",
    "version": 3
   },
   "file_extension": ".py",
   "mimetype": "text/x-python",
   "name": "python",
   "nbconvert_exporter": "python",
   "pygments_lexer": "ipython3",
   "version": "3.9.12"
  }
 },
 "nbformat": 4,
 "nbformat_minor": 5
}
