{
 "cells": [
  {
   "cell_type": "code",
   "execution_count": 1,
   "id": "cbd3d7b8",
   "metadata": {},
   "outputs": [
    {
     "name": "stdout",
     "output_type": "stream",
     "text": [
      "it is less than 10\n"
     ]
    }
   ],
   "source": [
    "i=9\n",
    "\n",
    "if i<10:\n",
    "    print('it is less than 10')\n",
    "    \n",
    "else:\n",
    "    print('it is something else')"
   ]
  },
  {
   "cell_type": "code",
   "execution_count": 2,
   "id": "b992e5df",
   "metadata": {},
   "outputs": [
    {
     "name": "stdout",
     "output_type": "stream",
     "text": [
      "it is less than 10\n"
     ]
    }
   ],
   "source": [
    "print('it is less than 10') if i < 10 else print('it is something else')"
   ]
  },
  {
   "cell_type": "code",
   "execution_count": 3,
   "id": "36e4c782",
   "metadata": {},
   "outputs": [
    {
     "name": "stdout",
     "output_type": "stream",
     "text": [
      "it is something else\n"
     ]
    }
   ],
   "source": [
    "i=16\n",
    "\n",
    "if i<10:\n",
    "    print('it is less than 10')\n",
    "    \n",
    "else:\n",
    "    print('it is something else')"
   ]
  },
  {
   "cell_type": "code",
   "execution_count": 4,
   "id": "debd915c",
   "metadata": {},
   "outputs": [
    {
     "name": "stdout",
     "output_type": "stream",
     "text": [
      "it is something else\n"
     ]
    }
   ],
   "source": [
    "print('it is less than 10') if i < 10 else print('it is something else')"
   ]
  },
  {
   "cell_type": "code",
   "execution_count": null,
   "id": "c88aed61",
   "metadata": {},
   "outputs": [],
   "source": [
    "Free slipping message"
   ]
  },
  {
   "cell_type": "code",
   "execution_count": 15,
   "id": "b729d1dd",
   "metadata": {},
   "outputs": [
    {
     "name": "stdout",
     "output_type": "stream",
     "text": [
      "you are eligible to free shipping\n"
     ]
    }
   ],
   "source": [
    "item_1 = 300\n",
    "\n",
    "item_2 = 250\n",
    "\n",
    "if (item_1 + item_2) >= 500:\n",
    "    print(\"you are eligible to free shipping\")\n",
    "    \n",
    "else:\n",
    "    extra = 500 - (item_1 + item_2)\n",
    "    print('Please add ', extra, 'Rs worth of an item for free shipping')"
   ]
  },
  {
   "cell_type": "code",
   "execution_count": 14,
   "id": "670aa72e",
   "metadata": {},
   "outputs": [
    {
     "name": "stdout",
     "output_type": "stream",
     "text": [
      "Please add  50 Rs worth of an item for free shipping\n"
     ]
    }
   ],
   "source": [
    "item_1 = 300\n",
    "\n",
    "item_2 = 150\n",
    "\n",
    "if (item_1 + item_2) >= 500:\n",
    "    print(\"you are eligible to free shipping\")\n",
    "    \n",
    "else:\n",
    "    extra = 500 - (item_1 + item_2)\n",
    "    print('Please add ', extra, 'Rs worth of an item for free shipping')"
   ]
  },
  {
   "cell_type": "code",
   "execution_count": 19,
   "id": "ac1a1db5",
   "metadata": {},
   "outputs": [
    {
     "name": "stdout",
     "output_type": "stream",
     "text": [
      "Both are not true\n"
     ]
    }
   ],
   "source": [
    "a = 200\n",
    "\n",
    "b = 33\n",
    "\n",
    "c = 500\n",
    "\n",
    "if a > b and c < a:\n",
    "    print(\"Both condition is True\")\n",
    "    \n",
    "else:\n",
    "    print('Both are not true')"
   ]
  },
  {
   "cell_type": "code",
   "execution_count": 20,
   "id": "3568553e",
   "metadata": {},
   "outputs": [
    {
     "name": "stdout",
     "output_type": "stream",
     "text": [
      "At least one of the condition is True\n"
     ]
    }
   ],
   "source": [
    "a = 200\n",
    "\n",
    "b = 33\n",
    "\n",
    "c = 500\n",
    "\n",
    "if a > b or c < a:\n",
    "    print(\"At least one of the condition is True\")\n",
    "    \n",
    "else:\n",
    "    print('Both are not true')"
   ]
  },
  {
   "cell_type": "code",
   "execution_count": null,
   "id": "dc7dea6a",
   "metadata": {},
   "outputs": [],
   "source": [
    "Find Student Level"
   ]
  },
  {
   "cell_type": "code",
   "execution_count": 28,
   "id": "a3cf5165",
   "metadata": {},
   "outputs": [
    {
     "name": "stdout",
     "output_type": "stream",
     "text": [
      "30 - Fail - Better level next time\n"
     ]
    }
   ],
   "source": [
    "marks = 30\n",
    "\n",
    "if marks >= 60:\n",
    "    if marks > 70:\n",
    "        print (marks, '- Distinction')\n",
    "        \n",
    "    else:\n",
    "        print (marks, '- First Class')\n",
    "        \n",
    "elif marks > 50 and marks < 60:\n",
    "    print (marks, '- Second Class')\n",
    "    \n",
    "elif marks >= 35:\n",
    "    print (marks, '- Pass')\n",
    "    \n",
    "else:\n",
    "    print (marks, '- Fail - Better level next time')"
   ]
  },
  {
   "cell_type": "code",
   "execution_count": 29,
   "id": "88bdfed7",
   "metadata": {},
   "outputs": [
    {
     "name": "stdout",
     "output_type": "stream",
     "text": [
      "78 - Distinction\n"
     ]
    }
   ],
   "source": [
    "marks = 78\n",
    "\n",
    "if marks >= 60:\n",
    "    if marks > 70:\n",
    "        print (marks, '- Distinction')\n",
    "        \n",
    "    else:\n",
    "        print (marks, '- First Class')\n",
    "        \n",
    "elif marks > 50 and marks < 60:\n",
    "    print (marks, '- Second Class')\n",
    "    \n",
    "elif marks >= 35:\n",
    "    print (marks, '- Pass')\n",
    "    \n",
    "else:\n",
    "    print (marks, '- Fail - Better level next time')"
   ]
  },
  {
   "cell_type": "code",
   "execution_count": 30,
   "id": "194c7f79",
   "metadata": {},
   "outputs": [
    {
     "name": "stdout",
     "output_type": "stream",
     "text": [
      "58 - Second Class\n"
     ]
    }
   ],
   "source": [
    "marks = 58\n",
    "\n",
    "if marks >= 60:\n",
    "    if marks > 70:\n",
    "        print (marks, '- Distinction')\n",
    "        \n",
    "    else:\n",
    "        print (marks, '- First Class')\n",
    "        \n",
    "elif marks > 50 and marks < 60:\n",
    "    print (marks, '- Second Class')\n",
    "    \n",
    "elif marks >= 35:\n",
    "    print (marks, '- Pass')\n",
    "    \n",
    "else:\n",
    "    print (marks, '- Fail - Better level next time')"
   ]
  },
  {
   "cell_type": "code",
   "execution_count": 32,
   "id": "ea9b9f70",
   "metadata": {},
   "outputs": [
    {
     "name": "stdout",
     "output_type": "stream",
     "text": [
      "Its greather than 25\n"
     ]
    }
   ],
   "source": [
    "num1 = 20\n",
    "num2 = 30\n",
    "\n",
    "if num1 == '20':\n",
    "    print ('Its not 20')\n",
    "    \n",
    "elif num2 > 25:\n",
    "    print ('Its greather than 25')"
   ]
  },
  {
   "cell_type": "code",
   "execution_count": 35,
   "id": "2e78790d",
   "metadata": {},
   "outputs": [
    {
     "name": "stdout",
     "output_type": "stream",
     "text": [
      "Its less than 25\n"
     ]
    }
   ],
   "source": [
    "num1 = 20\n",
    "num2 = 20\n",
    "\n",
    "if num1 == '20':\n",
    "    print ('Its not 20')\n",
    "    \n",
    "elif num2 < 25:\n",
    "    print ('Its less than 25')"
   ]
  },
  {
   "cell_type": "code",
   "execution_count": null,
   "id": "ed41e970",
   "metadata": {},
   "outputs": [],
   "source": []
  }
 ],
 "metadata": {
  "kernelspec": {
   "display_name": "Python 3 (ipykernel)",
   "language": "python",
   "name": "python3"
  },
  "language_info": {
   "codemirror_mode": {
    "name": "ipython",
    "version": 3
   },
   "file_extension": ".py",
   "mimetype": "text/x-python",
   "name": "python",
   "nbconvert_exporter": "python",
   "pygments_lexer": "ipython3",
   "version": "3.9.12"
  }
 },
 "nbformat": 4,
 "nbformat_minor": 5
}
