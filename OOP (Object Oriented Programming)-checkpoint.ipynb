{
 "cells": [
  {
   "cell_type": "code",
   "execution_count": null,
   "id": "174a3919",
   "metadata": {},
   "outputs": [],
   "source": [
    "Creat Class"
   ]
  },
  {
   "cell_type": "code",
   "execution_count": 2,
   "id": "32382c46",
   "metadata": {},
   "outputs": [],
   "source": [
    "class Account:\n",
    "    pass"
   ]
  },
  {
   "cell_type": "code",
   "execution_count": null,
   "id": "3056bc6a",
   "metadata": {},
   "outputs": [],
   "source": [
    "included _ _ init with together"
   ]
  },
  {
   "cell_type": "code",
   "execution_count": 3,
   "id": "f77450ca",
   "metadata": {},
   "outputs": [],
   "source": [
    "class Account:\n",
    "    def __init__(self, name, last_name, city,user_id, password, phone):\n",
    "   \n",
    "        self.name         = name\n",
    "        self.last_name    = last_name\n",
    "        self.city         = city\n",
    "        self.user_id      = user_id\n",
    "        self.password     = password\n",
    "        self.phone        = phone\n",
    "        "
   ]
  },
  {
   "cell_type": "code",
   "execution_count": 4,
   "id": "b37a062d",
   "metadata": {},
   "outputs": [
    {
     "name": "stdout",
     "output_type": "stream",
     "text": [
      "enter your name = Yadvendra\n",
      "enter last name = Roy\n",
      "enter city name = Shillong\n",
      "enter preferred user id = Yadvendra_2022\n",
      "chose your password = Yadav@1392\n",
      "enter phone number = 9089888200\n"
     ]
    }
   ],
   "source": [
    "class Account:\n",
    "    def __init__(self, name               = input('enter your name = '),\n",
    "                      last_name          = input('enter last name = '),\n",
    "                      city               = input('enter city name = '),\n",
    "                      user_id            = input('enter preferred user id = '),\n",
    "                      password           = input('chose your password = '),\n",
    "                      phone              = input('enter phone number = ')):\n",
    "        \n",
    "        self.name         = name\n",
    "        self.last_name    = last_name\n",
    "        self.city         = city\n",
    "        self.user_id      = user_id\n",
    "        self.password     = password\n",
    "        self.phone        = phone \n",
    "        \n",
    "    def login(self):\n",
    "        while True:\n",
    "            signin = input('email - ')\n",
    "            password = input('password - ')\n",
    "            if signin == self.user_id and password == self.password:\n",
    "                print('Sucessfully logged in')\n",
    "                break\n",
    "            else:\n",
    "                print ('User ID or Password is invalid')\n",
    "                continue \n",
    "        "
   ]
  },
  {
   "cell_type": "code",
   "execution_count": 5,
   "id": "083304cd",
   "metadata": {},
   "outputs": [],
   "source": [
    "bank = Account()"
   ]
  },
  {
   "cell_type": "code",
   "execution_count": 6,
   "id": "ea4fe773",
   "metadata": {},
   "outputs": [
    {
     "name": "stdout",
     "output_type": "stream",
     "text": [
      "email - Yadvendra_2022\n",
      "password - Yadav@1392\n",
      "Sucessfully logged in\n"
     ]
    }
   ],
   "source": [
    "bank.login()"
   ]
  },
  {
   "cell_type": "code",
   "execution_count": null,
   "id": "4bdab546",
   "metadata": {},
   "outputs": [],
   "source": [
    "Inheritance"
   ]
  },
  {
   "cell_type": "code",
   "execution_count": 17,
   "id": "cbeff150",
   "metadata": {},
   "outputs": [],
   "source": [
    "class User_Account(Account):\n",
    "    \n",
    "    def __init__(self, acc_number, balance, *args):\n",
    "        super(User_Account, self).__init__(*args)\n",
    "        self.acc_number   = acc_number\n",
    "        self.balance      = balance\n",
    "        \n",
    "    def user_details(self):\n",
    "        while True:\n",
    "            account = int(input('Enter your account number = '))\n",
    "            if account == self.acc_number:\n",
    "                print ('Name = ', self.name)\n",
    "                print ('Acc Num = ',self.acc_number)\n",
    "                print ('Your Balance = ', self.balance)\n",
    "                \n",
    "                break\n",
    "            \n",
    "            else:\n",
    "                print ('Account no is not valid')\n",
    "                continue\n",
    "                \n",
    "    def deposite(self):\n",
    "        print ('Your previous Balance = ', self.balance)\n",
    "        add_cash = int(input('Deposite Cash = '))\n",
    "        self.balance += add_cash\n",
    "        print ('\\n HDFC Bank: Rs ', add_cash, ' deposite to your account ', self.acc_number,\n",
    "               ' and Your Current Balance is ', self.balance)\n",
    "        \n",
    "        \n",
    "    def transfer(self):\n",
    "        print ('Your previous Balance = ', self.balance)\n",
    "        \n",
    "        withdraw = int(input('How much you want to transfer = '))\n",
    "        if withdraw <= self.balance:\n",
    "            self.balance -= withdraw\n",
    "            print ('\\n HDFC Bank: Rs ', withdraw, ' withdraw from your account ',self.acc_number,\n",
    "                   'and Your Current Balance is ', self.balance)\n",
    "            \n",
    "        else:\n",
    "            print (\"\\n Alert: Hellooo Boss, you don't have sufficient fund\")"
   ]
  },
  {
   "cell_type": "code",
   "execution_count": 18,
   "id": "9cb20749",
   "metadata": {},
   "outputs": [],
   "source": [
    "bank_details = User_Account(33145759865,0)"
   ]
  },
  {
   "cell_type": "code",
   "execution_count": 19,
   "id": "8a996700",
   "metadata": {},
   "outputs": [
    {
     "name": "stdout",
     "output_type": "stream",
     "text": [
      "email - Yadvendra_2022\n",
      "password - Yadav@1392\n",
      "Sucessfully logged in\n"
     ]
    }
   ],
   "source": [
    "bank_details.login()"
   ]
  },
  {
   "cell_type": "code",
   "execution_count": 20,
   "id": "d8b86d6e",
   "metadata": {},
   "outputs": [
    {
     "name": "stdout",
     "output_type": "stream",
     "text": [
      "Enter your account number = 33145759865\n",
      "Name =  Yadvendra\n",
      "Acc Num =  33145759865\n",
      "Your Balance =  0\n"
     ]
    }
   ],
   "source": [
    "bank_details.user_details()"
   ]
  },
  {
   "cell_type": "code",
   "execution_count": 24,
   "id": "a953f1e5",
   "metadata": {},
   "outputs": [
    {
     "name": "stdout",
     "output_type": "stream",
     "text": [
      "Your previous Balance =  12500\n",
      "Deposite Cash = 25000\n",
      "\n",
      " HDFC Bank: Rs  25000  deposite to your account  33145759865  and Your Current Balance is  37500\n"
     ]
    }
   ],
   "source": [
    "bank_details.deposite()"
   ]
  },
  {
   "cell_type": "code",
   "execution_count": 25,
   "id": "e6c390f2",
   "metadata": {},
   "outputs": [
    {
     "name": "stdout",
     "output_type": "stream",
     "text": [
      "Your previous Balance =  37500\n",
      "How much you want to transfer = 1500\n",
      "\n",
      " HDFC Bank: Rs  1500  withdraw from your account  33145759865 and Your Current Balance is  36000\n"
     ]
    }
   ],
   "source": [
    "bank_details.transfer()"
   ]
  },
  {
   "cell_type": "code",
   "execution_count": null,
   "id": "d4187eff",
   "metadata": {},
   "outputs": [],
   "source": [
    "Encapsulation"
   ]
  },
  {
   "cell_type": "code",
   "execution_count": 27,
   "id": "e495465e",
   "metadata": {},
   "outputs": [
    {
     "name": "stdout",
     "output_type": "stream",
     "text": [
      "Tyres: \n",
      " \tBranch: MRF\n",
      " \tBelted.bias: True\n",
      " \tOptimal pressure: 34\n",
      "Engine: \n",
      " \tFuel type: Petrol\n",
      " \tNoise level:2.3\n",
      "Body:\n",
      " \tSize: SUV\n"
     ]
    }
   ],
   "source": [
    "class Tyres:\n",
    "    def __init__(self, branch, belted_bias, opt_pressure):\n",
    "        self.branch = branch\n",
    "        self.belted_bias = belted_bias\n",
    "        self.opt_pressure = opt_pressure\n",
    "        \n",
    "    def __str__(self):\n",
    "        return (\"Tyres: \\n \\tBranch: \" + self.branch +\n",
    "               \"\\n \\tBelted.bias: \" + str(self.belted_bias) +\n",
    "               \"\\n \\tOptimal pressure: \" + str(self.opt_pressure))\n",
    "\n",
    "class Engine:\n",
    "    def __init__(self, fuel_type, noise_level):\n",
    "        self.fuel_type = fuel_type\n",
    "        self.noise_level = noise_level\n",
    "        \n",
    "    def __str__(self):\n",
    "        return (\"Engine: \\n \\tFuel type: \" + self.fuel_type + \n",
    "               \"\\n \\tNoise level:\" + str(self.noise_level))\n",
    "    \n",
    "class Body:\n",
    "    \n",
    "    def __init__(self, size):\n",
    "        self.size = size\n",
    "        \n",
    "    def __str__(self):\n",
    "        return (\"Body:\\n \\tSize: \" + self.size)\n",
    "    \n",
    "class Car:\n",
    "    def __init__(self, tyres, engine, body):\n",
    "        self.tyres = tyres\n",
    "        self.engine = engine\n",
    "        self.body = body\n",
    "        \n",
    "    def __str__(self):\n",
    "        return str(self.tyres) + '\\n' + str(self.engine) + '\\n' + str(self.body)\n",
    "\n",
    "t = Tyres('MRF', True, 34)\n",
    "e = Engine('Petrol', 2.3)\n",
    "b = Body('SUV')\n",
    "\n",
    "c = Car(t, e, b)\n",
    "print(c)"
   ]
  },
  {
   "cell_type": "code",
   "execution_count": null,
   "id": "5666aa05",
   "metadata": {},
   "outputs": [],
   "source": []
  }
 ],
 "metadata": {
  "kernelspec": {
   "display_name": "Python 3 (ipykernel)",
   "language": "python",
   "name": "python3"
  },
  "language_info": {
   "codemirror_mode": {
    "name": "ipython",
    "version": 3
   },
   "file_extension": ".py",
   "mimetype": "text/x-python",
   "name": "python",
   "nbconvert_exporter": "python",
   "pygments_lexer": "ipython3",
   "version": "3.9.12"
  }
 },
 "nbformat": 4,
 "nbformat_minor": 5
}
