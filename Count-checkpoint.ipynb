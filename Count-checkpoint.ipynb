{
 "cells": [
  {
   "cell_type": "code",
   "execution_count": null,
   "id": "e2648816",
   "metadata": {},
   "outputs": [],
   "source": [
    "Count"
   ]
  },
  {
   "cell_type": "code",
   "execution_count": 2,
   "id": "fe654ee9",
   "metadata": {},
   "outputs": [],
   "source": [
    "marks = [25,52,65,42,85,98,52,45,63,100,25,85,100,45,65,100,75]"
   ]
  },
  {
   "cell_type": "code",
   "execution_count": 4,
   "id": "800326f6",
   "metadata": {},
   "outputs": [
    {
     "data": {
      "text/plain": [
       "3"
      ]
     },
     "execution_count": 4,
     "metadata": {},
     "output_type": "execute_result"
    }
   ],
   "source": [
    "marks.count(100)"
   ]
  },
  {
   "cell_type": "code",
   "execution_count": 5,
   "id": "2420b48b",
   "metadata": {},
   "outputs": [
    {
     "data": {
      "text/plain": [
       "2"
      ]
     },
     "execution_count": 5,
     "metadata": {},
     "output_type": "execute_result"
    }
   ],
   "source": [
    "marks.count(85)"
   ]
  },
  {
   "cell_type": "code",
   "execution_count": 6,
   "id": "1a20b97b",
   "metadata": {},
   "outputs": [
    {
     "data": {
      "text/plain": [
       "9"
      ]
     },
     "execution_count": 6,
     "metadata": {},
     "output_type": "execute_result"
    }
   ],
   "source": [
    "marks.index(100)"
   ]
  },
  {
   "cell_type": "code",
   "execution_count": 7,
   "id": "d80d9fe9",
   "metadata": {},
   "outputs": [
    {
     "data": {
      "text/plain": [
       "0"
      ]
     },
     "execution_count": 7,
     "metadata": {},
     "output_type": "execute_result"
    }
   ],
   "source": [
    "marks.index(25)"
   ]
  },
  {
   "cell_type": "code",
   "execution_count": 8,
   "id": "44790f19",
   "metadata": {},
   "outputs": [
    {
     "data": {
      "text/plain": [
       "2"
      ]
     },
     "execution_count": 8,
     "metadata": {},
     "output_type": "execute_result"
    }
   ],
   "source": [
    "marks.index(65)"
   ]
  },
  {
   "cell_type": "code",
   "execution_count": null,
   "id": "9dfe4c34",
   "metadata": {},
   "outputs": [],
   "source": [
    "Extend Method"
   ]
  },
  {
   "cell_type": "code",
   "execution_count": 23,
   "id": "c08026a5",
   "metadata": {},
   "outputs": [],
   "source": [
    "employee = ['Radha','Remo','Ramesh','Sapna', 'Salman', 'Anupma']"
   ]
  },
  {
   "cell_type": "code",
   "execution_count": 24,
   "id": "574266a3",
   "metadata": {},
   "outputs": [],
   "source": [
    "employee.append(['Anurag','Gaurav','Geeta'])"
   ]
  },
  {
   "cell_type": "code",
   "execution_count": 25,
   "id": "a6755569",
   "metadata": {},
   "outputs": [
    {
     "name": "stdout",
     "output_type": "stream",
     "text": [
      "['Radha', 'Remo', 'Ramesh', 'Sapna', 'Salman', 'Anupma', ['Anurag', 'Gaurav', 'Geeta']]\n"
     ]
    }
   ],
   "source": [
    "print (employee)"
   ]
  },
  {
   "cell_type": "code",
   "execution_count": 26,
   "id": "8c06f5b6",
   "metadata": {},
   "outputs": [],
   "source": [
    "employee.extend (['Anurag','Gaurav','Geeta'])"
   ]
  },
  {
   "cell_type": "code",
   "execution_count": 27,
   "id": "4d74f58f",
   "metadata": {},
   "outputs": [
    {
     "name": "stdout",
     "output_type": "stream",
     "text": [
      "['Radha', 'Remo', 'Ramesh', 'Sapna', 'Salman', 'Anupma', ['Anurag', 'Gaurav', 'Geeta'], 'Anurag', 'Gaurav', 'Geeta']\n"
     ]
    }
   ],
   "source": [
    "print (employee)"
   ]
  },
  {
   "cell_type": "code",
   "execution_count": null,
   "id": "a670034e",
   "metadata": {},
   "outputs": [],
   "source": [
    "Reverse"
   ]
  },
  {
   "cell_type": "code",
   "execution_count": 31,
   "id": "5d90274a",
   "metadata": {},
   "outputs": [],
   "source": [
    "list=[1,2,3,4,5,6,7,5,8,6,2,9]"
   ]
  },
  {
   "cell_type": "code",
   "execution_count": 32,
   "id": "abafde8d",
   "metadata": {},
   "outputs": [],
   "source": [
    "list.reverse()"
   ]
  },
  {
   "cell_type": "code",
   "execution_count": 33,
   "id": "d1072fde",
   "metadata": {},
   "outputs": [
    {
     "data": {
      "text/plain": [
       "[9, 2, 6, 8, 5, 7, 6, 5, 4, 3, 2, 1]"
      ]
     },
     "execution_count": 33,
     "metadata": {},
     "output_type": "execute_result"
    }
   ],
   "source": [
    "list"
   ]
  },
  {
   "cell_type": "code",
   "execution_count": null,
   "id": "fddb6a96",
   "metadata": {},
   "outputs": [],
   "source": [
    "Sort"
   ]
  },
  {
   "cell_type": "code",
   "execution_count": 34,
   "id": "535c5fd9",
   "metadata": {},
   "outputs": [],
   "source": [
    "marks=[52,45,65,25,85,96,42]"
   ]
  },
  {
   "cell_type": "code",
   "execution_count": 35,
   "id": "13258c01",
   "metadata": {},
   "outputs": [
    {
     "data": {
      "text/plain": [
       "[52, 45, 65, 25, 85, 96, 42]"
      ]
     },
     "execution_count": 35,
     "metadata": {},
     "output_type": "execute_result"
    }
   ],
   "source": [
    "marks"
   ]
  },
  {
   "cell_type": "code",
   "execution_count": 41,
   "id": "360c2aef",
   "metadata": {},
   "outputs": [],
   "source": [
    "marks.sort(reverse = True)"
   ]
  },
  {
   "cell_type": "code",
   "execution_count": 42,
   "id": "02f2870c",
   "metadata": {},
   "outputs": [
    {
     "name": "stdout",
     "output_type": "stream",
     "text": [
      "[96, 85, 65, 52, 45, 42, 25]\n"
     ]
    }
   ],
   "source": [
    "print (marks)"
   ]
  },
  {
   "cell_type": "code",
   "execution_count": null,
   "id": "ee6c4389",
   "metadata": {},
   "outputs": [],
   "source": []
  }
 ],
 "metadata": {
  "kernelspec": {
   "display_name": "Python 3 (ipykernel)",
   "language": "python",
   "name": "python3"
  },
  "language_info": {
   "codemirror_mode": {
    "name": "ipython",
    "version": 3
   },
   "file_extension": ".py",
   "mimetype": "text/x-python",
   "name": "python",
   "nbconvert_exporter": "python",
   "pygments_lexer": "ipython3",
   "version": "3.9.12"
  }
 },
 "nbformat": 4,
 "nbformat_minor": 5
}
