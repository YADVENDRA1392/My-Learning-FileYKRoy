{
 "cells": [
  {
   "cell_type": "code",
   "execution_count": 1,
   "id": "6dc94e0c",
   "metadata": {},
   "outputs": [],
   "source": [
    "Zip"
   ]
  },
  {
   "cell_type": "code",
   "execution_count": null,
   "id": "9bb82488",
   "metadata": {},
   "outputs": [],
   "source": [
    "students_name = ['Gaurav', 'Shivam', 'Geeta', 'Anuradha', 'Yadvendra', 'Manoj', 'Sarswati']\n",
    "students_marks = [56, 85, 69, 75, 56, 45, 30]"
   ]
  },
  {
   "cell_type": "code",
   "execution_count": 2,
   "id": "d93cb76b",
   "metadata": {},
   "outputs": [],
   "source": [
    "students_details = list(zip(students_name,students_marks))"
   ]
  },
  {
   "cell_type": "code",
   "execution_count": 3,
   "id": "50b12dff",
   "metadata": {},
   "outputs": [
    {
     "data": {
      "text/plain": [
       "[('Gaurav', 56),\n",
       " ('Shivam', 85),\n",
       " ('Geeta', 69),\n",
       " ('Anuradha', 75),\n",
       " ('Yadvendra', 56),\n",
       " ('Manoj', 45),\n",
       " ('Sarswati', 30)]"
      ]
     },
     "execution_count": 3,
     "metadata": {},
     "output_type": "execute_result"
    }
   ],
   "source": [
    "students_details"
   ]
  },
  {
   "cell_type": "code",
   "execution_count": null,
   "id": "d55d27c1",
   "metadata": {},
   "outputs": [],
   "source": [
    "Unzip"
   ]
  },
  {
   "cell_type": "code",
   "execution_count": 5,
   "id": "3a19e7a6",
   "metadata": {},
   "outputs": [],
   "source": [
    "name, marks_num = zip(*students_details)"
   ]
  },
  {
   "cell_type": "code",
   "execution_count": 6,
   "id": "a2c32fc5",
   "metadata": {},
   "outputs": [
    {
     "data": {
      "text/plain": [
       "('Gaurav', 'Shivam', 'Geeta', 'Anuradha', 'Yadvendra', 'Manoj', 'Sarswati')"
      ]
     },
     "execution_count": 6,
     "metadata": {},
     "output_type": "execute_result"
    }
   ],
   "source": [
    "name"
   ]
  },
  {
   "cell_type": "code",
   "execution_count": 7,
   "id": "f67f94a9",
   "metadata": {},
   "outputs": [
    {
     "data": {
      "text/plain": [
       "(56, 85, 69, 75, 56, 45, 30)"
      ]
     },
     "execution_count": 7,
     "metadata": {},
     "output_type": "execute_result"
    }
   ],
   "source": [
    "marks_num"
   ]
  },
  {
   "cell_type": "code",
   "execution_count": null,
   "id": "aca6771d",
   "metadata": {},
   "outputs": [],
   "source": []
  }
 ],
 "metadata": {
  "kernelspec": {
   "display_name": "Python 3 (ipykernel)",
   "language": "python",
   "name": "python3"
  },
  "language_info": {
   "codemirror_mode": {
    "name": "ipython",
    "version": 3
   },
   "file_extension": ".py",
   "mimetype": "text/x-python",
   "name": "python",
   "nbconvert_exporter": "python",
   "pygments_lexer": "ipython3",
   "version": "3.9.12"
  }
 },
 "nbformat": 4,
 "nbformat_minor": 5
}
